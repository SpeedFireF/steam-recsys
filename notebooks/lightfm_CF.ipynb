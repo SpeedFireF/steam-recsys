{
    "cells": [
        {
            "cell_type": "markdown",
            "metadata": {},
            "source": [
                "# Recommender system on Steam Dataset using LightFM model\n",
                "\n",
                "Almaz Dautov, Damir Abdulayev, DS21-02\n",
                "\n",
                "a.dautov@innopolis.university\n",
                "\n",
                "d.abdulayev@innopolis.university"
            ]
        },
        {
            "cell_type": "markdown",
            "metadata": {},
            "source": [
                "This notebook explains the concept of a hybrid matrix factorisation based model for recommendation, it also outlines the steps to construct a pure matrix factorisation and a hybrid models using the [LightFM](https://github.com/lyst/lightfm) package.\n",
                "\n",
                "### LightFM package \n",
                "\n",
                "LightFM is a Python implementation of a hybrid recommendation algorithms for both implicit and explicit feedbacks [1].\n",
                "\n",
                "It is a hybrid content-collaborative model which represents users and items as linear combinations of their content features’ latent factors. The model learns **embeddings or latent representations of the users and items in such a way that it encodes user preferences over items**. These representations produce scores for every item for a given user; items scored highly are more likely to be interesting to the user.\n",
                "\n",
                "The user and item embeddings are estimated for every feature, and these features are then added together to be the final representations for users and items. \n",
                "\n",
                "#### Modelling approach\n",
                "\n",
                "Let $U$ be the set of users and $I$ be the set of items, and each user can be described by a set of user features $f_{u} \\subset F^{U}$ whilst each items can be described by item features $f_{i} \\subset F^{I}$. Both $F^{U}$ and $F^{I}$ are all the features which fully describe all users and items. \n",
                "\n",
                "The LightFM model operates based binary feedbacks, the ratings will be normalised into two groups. The user-item interaction pairs $(u,i) \\in U\\times I$ are the union of positive (favourable reviews) $S^+$ and negative interactions (negative reviews) $S^-$ for explicit ratings. For implicit feedbacks, these can be the observed and not observed interactions respectively.\n",
                "\n",
                "For each user and item feature, their embeddings are $e_{f}^{U}$ and $e_{f}^{I}$ respectively. Furthermore, each feature is also has a scalar bias term ($b_U^f$ for user and $b_I^f$ for item features). The embedding (latent representation) of user $u$ and item $i$ are the sum of its respective features’ latent vectors:\n",
                "\n",
                "$$ \n",
                "q_{u} = \\sum_{j \\in f_{u}} e_{j}^{U}\n",
                "$$\n",
                "\n",
                "$$\n",
                "p_{i} = \\sum_{j \\in f_{i}} e_{j}^{I}\n",
                "$$\n",
                "\n",
                "Similarly the biases for user $u$ and item $i$ are the sum of its respective bias vectors. These variables capture the variation in behaviour across users and items:\n",
                "\n",
                "$$\n",
                "b_{u} = \\sum_{j \\in f_{u}} b_{j}^{U}\n",
                "$$\n",
                "\n",
                "$$\n",
                "b_{i} = \\sum_{j \\in f_{i}} b_{j}^{I}\n",
                "$$\n",
                "\n",
                "In LightFM, the representation for each user/item is a linear weighted sum of its feature vectors.\n",
                "\n",
                "The prediction for user $u$ and item $i$ can be modelled as sigmoid of the dot product of user and item vectors, adjusted by its feature biases as follows:\n",
                "\n",
                "$$\n",
                "\\hat{r}_{ui} = \\sigma (q_{u} \\cdot p_{i} + b_{u} + b_{i})\n",
                "$$\n",
                "\n",
                "As the LightFM is constructed to predict binary outcomes e.g. $S^+$ and $S^-$, the function $\\sigma()$ is based on the [sigmoid function](https://mathworld.wolfram.com/SigmoidFunction.html). \n",
                "\n",
                "The LightFM algorithm estimates interaction latent vectors and bias for features. For model fitting, the cost function of the model consists of maximising the likelihood of data conditional on the parameters described above using stochastic gradient descent. The likelihood can be expressed as follows:\n",
                "\n",
                "$$\n",
                "L = \\prod_{(u,i) \\in S+}\\hat{r}_{ui} \\times \\prod_{(u,i) \\in S-}1 - \\hat{r}_{ui}\n",
                "$$\n",
                "\n",
                "Note that if the feature latent vectors are not available, the algorithm will behaves like a [logistic matrix factorisation model](http://stanford.edu/~rezab/nips2014workshop/submits/logmat.pdf).[2]"
            ]
        },
        {
            "cell_type": "markdown",
            "metadata": {},
            "source": [
                "### Import libraries"
            ]
        },
        {
            "cell_type": "code",
            "execution_count": 1,
            "metadata": {},
            "outputs": [
                {
                    "name": "stderr",
                    "output_type": "stream",
                    "text": [
                        "/Library/Frameworks/Python.framework/Versions/3.11/lib/python3.11/site-packages/lightfm/_lightfm_fast.py:9: UserWarning: LightFM was compiled without OpenMP support. Only a single thread will be used.\n",
                        "  warnings.warn(\n"
                    ]
                },
                {
                    "name": "stdout",
                    "output_type": "stream",
                    "text": [
                        "LightFM version: 1.17\n"
                    ]
                }
            ],
            "source": [
                "import itertools\n",
                "import pandas as pd\n",
                "import numpy as np\n",
                "import pickle\n",
                "import matplotlib.pyplot as plt\n",
                "from tqdm import tqdm\n",
                "import sys\n",
                "sys.path.append('..')\n",
                "\n",
                "import lightfm\n",
                "from lightfm import LightFM\n",
                "from lightfm.data import Dataset\n",
                "from lightfm import cross_validation\n",
                "\n",
                "from src.evaluate import calculate_metrics\n",
                "\n",
                "print(\"LightFM version: {}\".format(lightfm.__version__))"
            ]
        },
        {
            "cell_type": "markdown",
            "metadata": {},
            "source": [
                "### **Defining variables**"
            ]
        },
        {
            "cell_type": "code",
            "execution_count": 2,
            "metadata": {
                "tags": []
            },
            "outputs": [],
            "source": [
                "# default number of recommendations\n",
                "K = 10\n",
                "# percentage of data used for testing\n",
                "TEST_PERCENTAGE = 0.1\n",
                "# model learning rate\n",
                "LEARNING_RATE = 0.01\n",
                "# no of latent factors\n",
                "NO_COMPONENTS = 200\n",
                "# no of epochs to fit model\n",
                "NO_EPOCHS = 30\n",
                "# no of threads to fit model\n",
                "NO_THREADS = 8\n",
                "\n",
                "# regularisation for both user and item features\n",
                "ITEM_ALPHA = 0\n",
                "USER_ALPHA = 0\n",
                "\n",
                "checkpoint = 'lightFM_CF'\n",
                "# seed for pseudonumber generations\n",
                "SEED = 42"
            ]
        },
        {
            "cell_type": "markdown",
            "metadata": {},
            "source": [
                "### **Retrieve data**"
            ]
        },
        {
            "cell_type": "code",
            "execution_count": 3,
            "metadata": {},
            "outputs": [
                {
                    "data": {
                        "text/html": [
                            "<div>\n",
                            "<style scoped>\n",
                            "    .dataframe tbody tr th:only-of-type {\n",
                            "        vertical-align: middle;\n",
                            "    }\n",
                            "\n",
                            "    .dataframe tbody tr th {\n",
                            "        vertical-align: top;\n",
                            "    }\n",
                            "\n",
                            "    .dataframe thead th {\n",
                            "        text-align: right;\n",
                            "    }\n",
                            "</style>\n",
                            "<table border=\"1\" class=\"dataframe\">\n",
                            "  <thead>\n",
                            "    <tr style=\"text-align: right;\">\n",
                            "      <th></th>\n",
                            "      <th>app_id</th>\n",
                            "      <th>is_recommended</th>\n",
                            "      <th>user_id</th>\n",
                            "    </tr>\n",
                            "  </thead>\n",
                            "  <tbody>\n",
                            "    <tr>\n",
                            "      <th>60</th>\n",
                            "      <td>8930</td>\n",
                            "      <td>True</td>\n",
                            "      <td>2289182</td>\n",
                            "    </tr>\n",
                            "    <tr>\n",
                            "      <th>109</th>\n",
                            "      <td>400</td>\n",
                            "      <td>True</td>\n",
                            "      <td>8655693</td>\n",
                            "    </tr>\n",
                            "    <tr>\n",
                            "      <th>150</th>\n",
                            "      <td>22380</td>\n",
                            "      <td>True</td>\n",
                            "      <td>9514330</td>\n",
                            "    </tr>\n",
                            "    <tr>\n",
                            "      <th>510</th>\n",
                            "      <td>39800</td>\n",
                            "      <td>True</td>\n",
                            "      <td>10786300</td>\n",
                            "    </tr>\n",
                            "    <tr>\n",
                            "      <th>526</th>\n",
                            "      <td>39800</td>\n",
                            "      <td>True</td>\n",
                            "      <td>10800490</td>\n",
                            "    </tr>\n",
                            "    <tr>\n",
                            "      <th>...</th>\n",
                            "      <td>...</td>\n",
                            "      <td>...</td>\n",
                            "      <td>...</td>\n",
                            "    </tr>\n",
                            "    <tr>\n",
                            "      <th>32995573</th>\n",
                            "      <td>1850570</td>\n",
                            "      <td>True</td>\n",
                            "      <td>6192881</td>\n",
                            "    </tr>\n",
                            "    <tr>\n",
                            "      <th>32995612</th>\n",
                            "      <td>646570</td>\n",
                            "      <td>True</td>\n",
                            "      <td>1271122</td>\n",
                            "    </tr>\n",
                            "    <tr>\n",
                            "      <th>32995914</th>\n",
                            "      <td>1687950</td>\n",
                            "      <td>True</td>\n",
                            "      <td>8545656</td>\n",
                            "    </tr>\n",
                            "    <tr>\n",
                            "      <th>32996157</th>\n",
                            "      <td>550</td>\n",
                            "      <td>True</td>\n",
                            "      <td>13617023</td>\n",
                            "    </tr>\n",
                            "    <tr>\n",
                            "      <th>32996560</th>\n",
                            "      <td>1515210</td>\n",
                            "      <td>True</td>\n",
                            "      <td>13442269</td>\n",
                            "    </tr>\n",
                            "  </tbody>\n",
                            "</table>\n",
                            "<p>254400 rows × 3 columns</p>\n",
                            "</div>"
                        ],
                        "text/plain": [
                            "           app_id  is_recommended   user_id\n",
                            "60           8930            True   2289182\n",
                            "109           400            True   8655693\n",
                            "150         22380            True   9514330\n",
                            "510         39800            True  10786300\n",
                            "526         39800            True  10800490\n",
                            "...           ...             ...       ...\n",
                            "32995573  1850570            True   6192881\n",
                            "32995612   646570            True   1271122\n",
                            "32995914  1687950            True   8545656\n",
                            "32996157      550            True  13617023\n",
                            "32996560  1515210            True  13442269\n",
                            "\n",
                            "[254400 rows x 3 columns]"
                        ]
                    },
                    "execution_count": 3,
                    "metadata": {},
                    "output_type": "execute_result"
                }
            ],
            "source": [
                "data = pd.read_csv('../data/interim/recs.csv', index_col=0)\n",
                "users = pd.read_csv('../data/interim/users.csv', index_col=0)\n",
                "games = pd.read_csv('../data/interim/games.csv', index_col=0)\n",
                "data"
            ]
        },
        {
            "cell_type": "markdown",
            "metadata": {},
            "source": [
                "Before fitting the LightFM model, we need to create an instance of `Dataset` which holds the interaction matrix."
            ]
        },
        {
            "cell_type": "code",
            "execution_count": 4,
            "metadata": {},
            "outputs": [],
            "source": [
                "dataset = Dataset()"
            ]
        },
        {
            "cell_type": "markdown",
            "metadata": {},
            "source": [
                "The `fit` method creates the user/item id mappings."
            ]
        },
        {
            "cell_type": "code",
            "execution_count": 5,
            "metadata": {},
            "outputs": [
                {
                    "name": "stdout",
                    "output_type": "stream",
                    "text": [
                        "Num users: 12720, num_items: 13078.\n"
                    ]
                }
            ],
            "source": [
                "dataset.fit(\n",
                "    users=users['user_id'], \n",
                "    items=games['app_id'],\n",
                ")\n",
                "\n",
                "# quick check to determine the number of unique users and items in the data\n",
                "num_users, num_items = dataset.interactions_shape()\n",
                "print(f'Num users: {num_users}, num_items: {num_items}.')"
            ]
        },
        {
            "cell_type": "code",
            "execution_count": 6,
            "metadata": {},
            "outputs": [],
            "source": [
                "(interactions, weights) = dataset.build_interactions(zip(data['user_id'], data['app_id']))"
            ]
        },
        {
            "cell_type": "markdown",
            "metadata": {},
            "source": [
                "Next is to build the interaction matrix. The `build_interactions` method returns 2 COO sparse matrices, namely the `interactions` and `weights` matrices."
            ]
        },
        {
            "cell_type": "markdown",
            "metadata": {},
            "source": [
                "LightLM works slightly differently compared to other packages as it expects the train and test sets to have same dimension. Therefore the conventional train test split will not work.\n",
                "\n",
                "The package has included the `cross_validation.random_train_test_split` method to split the interaction data and splits it into two disjoint training and test sets. \n",
                "\n",
                "However, note that **it does not validate the interactions in the test set to guarantee all items and users have historical interactions in the training set**. Therefore this may result into a partial cold-start problem in the test set."
            ]
        },
        {
            "cell_type": "code",
            "execution_count": 7,
            "metadata": {},
            "outputs": [],
            "source": [
                "train_interactions, test_interactions = cross_validation.random_train_test_split(\n",
                "    interactions, test_percentage=TEST_PERCENTAGE,\n",
                "    random_state=np.random.RandomState(SEED)\n",
                ")"
            ]
        },
        {
            "cell_type": "markdown",
            "metadata": {},
            "source": [
                "Extract indicies of test data \n",
                "\n",
                "(shuffle with the same SEED actually returns the same indicies, as it did in random_train_test_split, otherwise we can't get indicies)"
            ]
        },
        {
            "cell_type": "code",
            "execution_count": 8,
            "metadata": {},
            "outputs": [],
            "source": [
                "uids, iids, data_interaction = cross_validation._shuffle(interactions.row, interactions.col, interactions.data, np.random.RandomState(SEED))\n",
                "\n",
                "cutoff = int((1.0 - TEST_PERCENTAGE) * len(uids))\n",
                "test_idx = slice(cutoff, None)\n",
                "train_idx = slice(None, cutoff)\n",
                "\n",
                "test_uids, test_iids = uids[test_idx], iids[test_idx]\n",
                "train_uids, train_iids = uids[train_idx], iids[train_idx]"
            ]
        },
        {
            "cell_type": "markdown",
            "metadata": {},
            "source": [
                "Double check the size of both the train and test sets."
            ]
        },
        {
            "cell_type": "code",
            "execution_count": 9,
            "metadata": {},
            "outputs": [
                {
                    "name": "stdout",
                    "output_type": "stream",
                    "text": [
                        "Shape of train interactions: (12720, 13078)\n",
                        "Shape of test interactions: (12720, 13078)\n"
                    ]
                }
            ],
            "source": [
                "print(f\"Shape of train interactions: {train_interactions.shape}\")\n",
                "print(f\"Shape of test interactions: {test_interactions.shape}\")"
            ]
        },
        {
            "cell_type": "markdown",
            "metadata": {},
            "source": [
                "### Fit the LightFM model"
            ]
        },
        {
            "cell_type": "code",
            "execution_count": 10,
            "metadata": {
                "scrolled": true
            },
            "outputs": [],
            "source": [
                "model = LightFM(\n",
                "    loss='warp', \n",
                "    no_components=NO_COMPONENTS, \n",
                "    learning_rate=LEARNING_RATE,\n",
                "    random_state=np.random.RandomState(SEED)\n",
                ")"
            ]
        },
        {
            "cell_type": "code",
            "execution_count": 11,
            "metadata": {},
            "outputs": [],
            "source": [
                "def save_model(model):\n",
                "    with open(f'../models/{checkpoint}.pickle', 'wb') as fle:\n",
                "        pickle.dump(model, fle, protocol=pickle.HIGHEST_PROTOCOL)"
            ]
        },
        {
            "cell_type": "markdown",
            "metadata": {},
            "source": [
                "The LightFM model can be fitted with the following code:\n",
                "\n",
                "Unfortunately loss can't be tracked :("
            ]
        },
        {
            "cell_type": "code",
            "execution_count": 12,
            "metadata": {},
            "outputs": [
                {
                    "name": "stderr",
                    "output_type": "stream",
                    "text": [
                        "  3%|▎         | 1/30 [01:00<29:15, 60.52s/it]"
                    ]
                },
                {
                    "name": "stdout",
                    "output_type": "stream",
                    "text": [
                        "Epoch 1/30, Train auc: 0.8972231149673462, Test auc: 0.8897297978401184\n"
                    ]
                },
                {
                    "name": "stderr",
                    "output_type": "stream",
                    "text": [
                        "  7%|▋         | 2/30 [01:59<27:56, 59.87s/it]"
                    ]
                },
                {
                    "name": "stdout",
                    "output_type": "stream",
                    "text": [
                        "Epoch 2/30, Train auc: 0.907913863658905, Test auc: 0.9006026387214661\n"
                    ]
                },
                {
                    "name": "stderr",
                    "output_type": "stream",
                    "text": [
                        " 10%|█         | 3/30 [02:59<26:54, 59.80s/it]"
                    ]
                },
                {
                    "name": "stdout",
                    "output_type": "stream",
                    "text": [
                        "Epoch 3/30, Train auc: 0.91239994764328, Test auc: 0.9044110774993896\n"
                    ]
                },
                {
                    "name": "stderr",
                    "output_type": "stream",
                    "text": [
                        " 13%|█▎        | 4/30 [03:58<25:46, 59.47s/it]"
                    ]
                },
                {
                    "name": "stdout",
                    "output_type": "stream",
                    "text": [
                        "Epoch 4/30, Train auc: 0.9145982265472412, Test auc: 0.9055958390235901\n"
                    ]
                },
                {
                    "name": "stderr",
                    "output_type": "stream",
                    "text": [
                        " 17%|█▋        | 5/30 [04:56<24:36, 59.06s/it]"
                    ]
                },
                {
                    "name": "stdout",
                    "output_type": "stream",
                    "text": [
                        "Epoch 5/30, Train auc: 0.9163128733634949, Test auc: 0.9064380526542664\n"
                    ]
                },
                {
                    "name": "stderr",
                    "output_type": "stream",
                    "text": [
                        " 20%|██        | 6/30 [05:56<23:39, 59.14s/it]"
                    ]
                },
                {
                    "name": "stdout",
                    "output_type": "stream",
                    "text": [
                        "Epoch 6/30, Train auc: 0.9180105328559875, Test auc: 0.9072616100311279\n"
                    ]
                },
                {
                    "name": "stderr",
                    "output_type": "stream",
                    "text": [
                        " 23%|██▎       | 7/30 [06:55<22:43, 59.27s/it]"
                    ]
                },
                {
                    "name": "stdout",
                    "output_type": "stream",
                    "text": [
                        "Epoch 7/30, Train auc: 0.9197071194648743, Test auc: 0.9082534909248352\n"
                    ]
                },
                {
                    "name": "stderr",
                    "output_type": "stream",
                    "text": [
                        " 27%|██▋       | 8/30 [07:56<21:53, 59.72s/it]"
                    ]
                },
                {
                    "name": "stdout",
                    "output_type": "stream",
                    "text": [
                        "Epoch 8/30, Train auc: 0.9214739203453064, Test auc: 0.909328818321228\n"
                    ]
                },
                {
                    "name": "stderr",
                    "output_type": "stream",
                    "text": [
                        " 30%|███       | 9/30 [08:56<20:55, 59.77s/it]"
                    ]
                },
                {
                    "name": "stdout",
                    "output_type": "stream",
                    "text": [
                        "Epoch 9/30, Train auc: 0.9232348203659058, Test auc: 0.9103450179100037\n"
                    ]
                },
                {
                    "name": "stderr",
                    "output_type": "stream",
                    "text": [
                        " 33%|███▎      | 10/30 [09:56<19:58, 59.91s/it]"
                    ]
                },
                {
                    "name": "stdout",
                    "output_type": "stream",
                    "text": [
                        "Epoch 10/30, Train auc: 0.9249999523162842, Test auc: 0.9115782380104065\n"
                    ]
                },
                {
                    "name": "stderr",
                    "output_type": "stream",
                    "text": [
                        " 37%|███▋      | 11/30 [10:56<18:57, 59.85s/it]"
                    ]
                },
                {
                    "name": "stdout",
                    "output_type": "stream",
                    "text": [
                        "Epoch 11/30, Train auc: 0.9268239736557007, Test auc: 0.9127839803695679\n"
                    ]
                },
                {
                    "name": "stderr",
                    "output_type": "stream",
                    "text": [
                        " 40%|████      | 12/30 [11:56<17:58, 59.89s/it]"
                    ]
                },
                {
                    "name": "stdout",
                    "output_type": "stream",
                    "text": [
                        "Epoch 12/30, Train auc: 0.9286306500434875, Test auc: 0.9140124917030334\n"
                    ]
                },
                {
                    "name": "stderr",
                    "output_type": "stream",
                    "text": [
                        " 43%|████▎     | 13/30 [12:55<16:53, 59.60s/it]"
                    ]
                },
                {
                    "name": "stdout",
                    "output_type": "stream",
                    "text": [
                        "Epoch 13/30, Train auc: 0.9304106831550598, Test auc: 0.9150989055633545\n"
                    ]
                },
                {
                    "name": "stderr",
                    "output_type": "stream",
                    "text": [
                        " 47%|████▋     | 14/30 [13:54<15:50, 59.38s/it]"
                    ]
                },
                {
                    "name": "stdout",
                    "output_type": "stream",
                    "text": [
                        "Epoch 14/30, Train auc: 0.9321553111076355, Test auc: 0.9161717295646667\n"
                    ]
                },
                {
                    "name": "stderr",
                    "output_type": "stream",
                    "text": [
                        " 50%|█████     | 15/30 [14:52<14:48, 59.22s/it]"
                    ]
                },
                {
                    "name": "stdout",
                    "output_type": "stream",
                    "text": [
                        "Epoch 15/30, Train auc: 0.9338622093200684, Test auc: 0.9172729849815369\n"
                    ]
                },
                {
                    "name": "stderr",
                    "output_type": "stream",
                    "text": [
                        " 53%|█████▎    | 16/30 [15:51<13:48, 59.17s/it]"
                    ]
                },
                {
                    "name": "stdout",
                    "output_type": "stream",
                    "text": [
                        "Epoch 16/30, Train auc: 0.9355135560035706, Test auc: 0.9182852506637573\n"
                    ]
                },
                {
                    "name": "stderr",
                    "output_type": "stream",
                    "text": [
                        " 57%|█████▋    | 17/30 [16:50<12:47, 59.01s/it]"
                    ]
                },
                {
                    "name": "stdout",
                    "output_type": "stream",
                    "text": [
                        "Epoch 17/30, Train auc: 0.9371281266212463, Test auc: 0.9193021655082703\n"
                    ]
                },
                {
                    "name": "stderr",
                    "output_type": "stream",
                    "text": [
                        " 60%|██████    | 18/30 [17:48<11:44, 58.71s/it]"
                    ]
                },
                {
                    "name": "stdout",
                    "output_type": "stream",
                    "text": [
                        "Epoch 18/30, Train auc: 0.938668966293335, Test auc: 0.9202300906181335\n"
                    ]
                },
                {
                    "name": "stderr",
                    "output_type": "stream",
                    "text": [
                        " 63%|██████▎   | 19/30 [18:45<10:40, 58.22s/it]"
                    ]
                },
                {
                    "name": "stdout",
                    "output_type": "stream",
                    "text": [
                        "Epoch 19/30, Train auc: 0.9401732683181763, Test auc: 0.9210804104804993\n"
                    ]
                },
                {
                    "name": "stderr",
                    "output_type": "stream",
                    "text": [
                        " 67%|██████▋   | 20/30 [19:42<09:39, 57.91s/it]"
                    ]
                },
                {
                    "name": "stdout",
                    "output_type": "stream",
                    "text": [
                        "Epoch 20/30, Train auc: 0.9416184425354004, Test auc: 0.9219357371330261\n"
                    ]
                },
                {
                    "name": "stderr",
                    "output_type": "stream",
                    "text": [
                        " 70%|███████   | 21/30 [20:39<08:39, 57.67s/it]"
                    ]
                },
                {
                    "name": "stdout",
                    "output_type": "stream",
                    "text": [
                        "Epoch 21/30, Train auc: 0.9430163502693176, Test auc: 0.9227554798126221\n"
                    ]
                },
                {
                    "name": "stderr",
                    "output_type": "stream",
                    "text": [
                        " 73%|███████▎  | 22/30 [21:37<07:40, 57.51s/it]"
                    ]
                },
                {
                    "name": "stdout",
                    "output_type": "stream",
                    "text": [
                        "Epoch 22/30, Train auc: 0.9443572759628296, Test auc: 0.9235402345657349\n"
                    ]
                },
                {
                    "name": "stderr",
                    "output_type": "stream",
                    "text": [
                        " 77%|███████▋  | 23/30 [22:34<06:42, 57.53s/it]"
                    ]
                },
                {
                    "name": "stdout",
                    "output_type": "stream",
                    "text": [
                        "Epoch 23/30, Train auc: 0.9456592202186584, Test auc: 0.9243023991584778\n"
                    ]
                },
                {
                    "name": "stderr",
                    "output_type": "stream",
                    "text": [
                        " 80%|████████  | 24/30 [23:31<05:44, 57.40s/it]"
                    ]
                },
                {
                    "name": "stdout",
                    "output_type": "stream",
                    "text": [
                        "Epoch 24/30, Train auc: 0.9469017386436462, Test auc: 0.9250372648239136\n"
                    ]
                },
                {
                    "name": "stderr",
                    "output_type": "stream",
                    "text": [
                        " 83%|████████▎ | 25/30 [24:28<04:46, 57.20s/it]"
                    ]
                },
                {
                    "name": "stdout",
                    "output_type": "stream",
                    "text": [
                        "Epoch 25/30, Train auc: 0.9480873942375183, Test auc: 0.925696074962616\n"
                    ]
                },
                {
                    "name": "stderr",
                    "output_type": "stream",
                    "text": [
                        " 87%|████████▋ | 26/30 [25:25<03:48, 57.04s/it]"
                    ]
                },
                {
                    "name": "stdout",
                    "output_type": "stream",
                    "text": [
                        "Epoch 26/30, Train auc: 0.9492190480232239, Test auc: 0.9263272881507874\n"
                    ]
                },
                {
                    "name": "stderr",
                    "output_type": "stream",
                    "text": [
                        " 90%|█████████ | 27/30 [26:22<02:51, 57.07s/it]"
                    ]
                },
                {
                    "name": "stdout",
                    "output_type": "stream",
                    "text": [
                        "Epoch 27/30, Train auc: 0.9502938985824585, Test auc: 0.9269199967384338\n"
                    ]
                },
                {
                    "name": "stderr",
                    "output_type": "stream",
                    "text": [
                        " 93%|█████████▎| 28/30 [27:18<01:53, 56.87s/it]"
                    ]
                },
                {
                    "name": "stdout",
                    "output_type": "stream",
                    "text": [
                        "Epoch 28/30, Train auc: 0.9513352513313293, Test auc: 0.9274780750274658\n"
                    ]
                },
                {
                    "name": "stderr",
                    "output_type": "stream",
                    "text": [
                        " 97%|█████████▋| 29/30 [28:14<00:56, 56.68s/it]"
                    ]
                },
                {
                    "name": "stdout",
                    "output_type": "stream",
                    "text": [
                        "Epoch 29/30, Train auc: 0.9523362517356873, Test auc: 0.9280126094818115\n"
                    ]
                },
                {
                    "name": "stderr",
                    "output_type": "stream",
                    "text": [
                        "100%|██████████| 30/30 [29:11<00:00, 58.38s/it]"
                    ]
                },
                {
                    "name": "stdout",
                    "output_type": "stream",
                    "text": [
                        "Epoch 30/30, Train auc: 0.9533076286315918, Test auc: 0.9284886121749878\n"
                    ]
                },
                {
                    "name": "stderr",
                    "output_type": "stream",
                    "text": [
                        "\n"
                    ]
                }
            ],
            "source": [
                "train_history = {\n",
                "    'AUC': [],\n",
                "    'Precision': [],\n",
                "    'Recall': [],\n",
                "}\n",
                "\n",
                "test_history = {\n",
                "    'AUC': [],\n",
                "    'Precision': [],\n",
                "    'Recall': [],\n",
                "}\n",
                "\n",
                "best_score = 0\n",
                "\n",
                "for epoch in tqdm(range(NO_EPOCHS)):\n",
                "    \n",
                "    model.fit_partial(\n",
                "        interactions=train_interactions,\n",
                "        epochs=1,\n",
                "        num_threads=NO_THREADS\n",
                "    )\n",
                "    \n",
                "    train_precision, train_recall, train_auc = calculate_metrics(model, train_interactions, None, None, None, K)\n",
                "    test_precision, test_recall, test_auc = calculate_metrics(model, test_interactions, train_interactions, None, None, K)\n",
                "\n",
                "    train_history['AUC'].append(train_auc)\n",
                "    train_history['Precision'].append(train_precision)\n",
                "    train_history['Recall'].append(train_recall)\n",
                "\n",
                "    test_history['AUC'].append(test_auc)\n",
                "    test_history['Precision'].append(test_precision)\n",
                "    test_history['Recall'].append(test_recall)\n",
                "\n",
                "    if test_auc > best_score:\n",
                "        best_score = test_auc\n",
                "        save_model(model)\n",
                "\n",
                "    print(f'Epoch {epoch + 1}/{NO_EPOCHS}, Train auc: {train_auc}, Test auc: {test_auc}')"
            ]
        },
        {
            "cell_type": "markdown",
            "metadata": {},
            "source": [
                "### Model evaluation"
            ]
        },
        {
            "cell_type": "code",
            "execution_count": 18,
            "metadata": {},
            "outputs": [
                {
                    "data": {
                        "image/png": "[encoded data removed]",
                        "text/plain": [
                            "<Figure size 1200x1500 with 3 Axes>"
                        ]
                    },
                    "metadata": {},
                    "output_type": "display_data"
                }
            ],
            "source": [
                "epochs = range(1, NO_EPOCHS + 1)\n",
                "\n",
                "# Create subplots\n",
                "fig, axs = plt.subplots(3, 1, figsize=(12, 15), sharex=True)\n",
                "\n",
                "# Plot AUC\n",
                "axs[0].plot(epochs, train_history['AUC'], label='Train AUC', marker='o')\n",
                "axs[0].plot(epochs, test_history['AUC'], label='Test AUC', marker='o')\n",
                "axs[0].set_ylabel('AUC')\n",
                "axs[0].legend()\n",
                "\n",
                "# Plot Precision\n",
                "axs[1].plot(epochs, train_history['Precision'], label='Train Precision', marker='o')\n",
                "axs[1].plot(epochs, test_history['Precision'], label='Test Precision', marker='o')\n",
                "axs[1].set_ylabel('Precision')\n",
                "axs[1].legend()\n",
                "\n",
                "# Plot Recall\n",
                "axs[2].plot(epochs, train_history['Recall'], label='Train Recall', marker='o')\n",
                "axs[2].plot(epochs, test_history['Recall'], label='Test Recall', marker='o')\n",
                "axs[2].set_xlabel('Epochs')\n",
                "axs[2].set_ylabel('Recall')\n",
                "axs[2].legend()\n",
                "\n",
                "plt.suptitle('Metrics Over Epochs', y=0.92)\n",
                "plt.show()\n"
            ]
        },
        {
            "cell_type": "code",
            "execution_count": 19,
            "metadata": {},
            "outputs": [
                {
                    "name": "stdout",
                    "output_type": "stream",
                    "text": [
                        "Precision@10: 0.021222122013568878\n",
                        "Recall@10: 0.09563446044489755\n",
                        "test ROC AUC: 0.9284886121749878\n"
                    ]
                }
            ],
            "source": [
                "# Evaluate precision at k on the test data\n",
                "print(f'Precision@{K}: {test_history[\"Precision\"][-1]}')\n",
                "print(f'Recall@{K}: {test_history[\"Recall\"][-1]}')\n",
                "print(f'test ROC AUC: {test_history[\"AUC\"][-1]}')"
            ]
        },
        {
            "cell_type": "markdown",
            "metadata": {},
            "source": [
                "### **Let's see recommendation on example**"
            ]
        },
        {
            "cell_type": "code",
            "execution_count": 20,
            "metadata": {},
            "outputs": [],
            "source": [
                "from IPython.display import display_html\n",
                "def display_side_by_side(*args):\n",
                "    html_str=''\n",
                "    for df in args:\n",
                "        html_str+=df.to_html()\n",
                "    display_html(html_str.replace('table','table style=\"display:inline\"'),raw=True)"
            ]
        },
        {
            "cell_type": "code",
            "execution_count": 21,
            "metadata": {},
            "outputs": [],
            "source": [
                "def sample_recommendation(model, user_ids, k):\n",
                "    mapper_to_internal_ids = dataset.mapping()[2]\n",
                "    mapper_to_external_ids = {v: k for k, v in mapper_to_internal_ids.items()}\n",
                "\n",
                "    user_mapper_to_internal = dataset.mapping()[0]\n",
                "    user_mapper_to_external = {v: k for k, v in user_mapper_to_internal.items()}\n",
                "    user_ids = np.vectorize(user_mapper_to_internal.get)(user_ids)\n",
                "    \n",
                "    for user_id in user_ids:\n",
                "\n",
                "        print(f'Games liked by user {user_mapper_to_external[user_id]}:')\n",
                "\n",
                "        train_item_ids = [iid for uid, iid in zip(train_uids, train_iids) if uid == user_id]\n",
                "        games_liked = games[games['app_id'].isin(np.vectorize(mapper_to_external_ids.get)(train_item_ids))]\n",
                "\n",
                "        display_side_by_side(games_liked[['app_id', 'title']])\n",
                "\n",
                "        scores = model.predict(\n",
                "            int(user_id),\n",
                "            list(mapper_to_internal_ids.values()),\n",
                "        )\n",
                "        indices = np.argsort(-scores)\n",
                "        print(f'Games recommended to user {user_mapper_to_external[user_id]}:')\n",
                "        games_recommended = games[games['app_id'].isin(np.vectorize(mapper_to_external_ids.get)(indices))]\n",
                "        games_recommended = games_recommended[~games_recommended['app_id'].isin(games_liked['app_id'])][:k]\n",
                "        display_side_by_side(games_recommended[['app_id', 'title']])\n",
                "\n"
            ]
        },
        {
            "cell_type": "markdown",
            "metadata": {},
            "source": [
                "## References"
            ]
        },
        {
            "cell_type": "code",
            "execution_count": 23,
            "metadata": {},
            "outputs": [
                {
                    "name": "stdout",
                    "output_type": "stream",
                    "text": [
                        "Games liked by user 7510288:\n"
                    ]
                },
                {
                    "data": {
                        "text/html": [
                            "<table style=\"display:inline\" border=\"1\" class=\"dataframe\">\n",
                            "  <thead>\n",
                            "    <tr style=\"text-align: right;\">\n",
                            "      <th></th>\n",
                            "      <th>app_id</th>\n",
                            "      <th>title</th>\n",
                            "    </tr>\n",
                            "  </thead>\n",
                            "  <tbody>\n",
                            "    <tr>\n",
                            "      <th>5</th>\n",
                            "      <td>253980</td>\n",
                            "      <td>Enclave</td>\n",
                            "    </tr>\n",
                            "    <tr>\n",
                            "      <th>710</th>\n",
                            "      <td>554620</td>\n",
                            "      <td>Life is Strange: Before the Storm</td>\n",
                            "    </tr>\n",
                            "    <tr>\n",
                            "      <th>1004</th>\n",
                            "      <td>364470</td>\n",
                            "      <td>The Elder Scrolls®: Legends™</td>\n",
                            "    </tr>\n",
                            "    <tr>\n",
                            "      <th>2143</th>\n",
                            "      <td>330830</td>\n",
                            "      <td>Tales from the Borderlands</td>\n",
                            "    </tr>\n",
                            "    <tr>\n",
                            "      <th>2169</th>\n",
                            "      <td>287630</td>\n",
                            "      <td>The Council</td>\n",
                            "    </tr>\n",
                            "    <tr>\n",
                            "      <th>3419</th>\n",
                            "      <td>320240</td>\n",
                            "      <td>We Happy Few</td>\n",
                            "    </tr>\n",
                            "    <tr>\n",
                            "      <th>4704</th>\n",
                            "      <td>292030</td>\n",
                            "      <td>The Witcher® 3: Wild Hunt</td>\n",
                            "    </tr>\n",
                            "    <tr>\n",
                            "      <th>4894</th>\n",
                            "      <td>1332010</td>\n",
                            "      <td>Stray</td>\n",
                            "    </tr>\n",
                            "    <tr>\n",
                            "      <th>5260</th>\n",
                            "      <td>1091500</td>\n",
                            "      <td>Cyberpunk 2077</td>\n",
                            "    </tr>\n",
                            "    <tr>\n",
                            "      <th>5614</th>\n",
                            "      <td>620</td>\n",
                            "      <td>Portal 2</td>\n",
                            "    </tr>\n",
                            "    <tr>\n",
                            "      <th>11840</th>\n",
                            "      <td>400</td>\n",
                            "      <td>Portal</td>\n",
                            "    </tr>\n",
                            "    <tr>\n",
                            "      <th>11883</th>\n",
                            "      <td>22320</td>\n",
                            "      <td>The Elder Scrolls III: Morrowind® Game of the Year Edition</td>\n",
                            "    </tr>\n",
                            "    <tr>\n",
                            "      <th>11923</th>\n",
                            "      <td>49520</td>\n",
                            "      <td>Borderlands 2</td>\n",
                            "    </tr>\n",
                            "    <tr>\n",
                            "      <th>12061</th>\n",
                            "      <td>362890</td>\n",
                            "      <td>Black Mesa</td>\n",
                            "    </tr>\n",
                            "    <tr>\n",
                            "      <th>12081</th>\n",
                            "      <td>306130</td>\n",
                            "      <td>The Elder Scrolls® Online</td>\n",
                            "    </tr>\n",
                            "    <tr>\n",
                            "      <th>12172</th>\n",
                            "      <td>397540</td>\n",
                            "      <td>Borderlands 3</td>\n",
                            "    </tr>\n",
                            "    <tr>\n",
                            "      <th>12198</th>\n",
                            "      <td>424840</td>\n",
                            "      <td>Little Nightmares</td>\n",
                            "    </tr>\n",
                            "    <tr>\n",
                            "      <th>12473</th>\n",
                            "      <td>860510</td>\n",
                            "      <td>Little Nightmares II</td>\n",
                            "    </tr>\n",
                            "    <tr>\n",
                            "      <th>12706</th>\n",
                            "      <td>1237950</td>\n",
                            "      <td>STAR WARS™ Battlefront™ II</td>\n",
                            "    </tr>\n",
                            "    <tr>\n",
                            "      <th>13002</th>\n",
                            "      <td>2208920</td>\n",
                            "      <td>Assassin's Creed Valhalla</td>\n",
                            "    </tr>\n",
                            "  </tbody>\n",
                            "</table style=\"display:inline\">"
                        ]
                    },
                    "metadata": {},
                    "output_type": "display_data"
                },
                {
                    "name": "stdout",
                    "output_type": "stream",
                    "text": [
                        "Games recommended to user 7510288:\n"
                    ]
                },
                {
                    "data": {
                        "text/html": [
                            "<table style=\"display:inline\" border=\"1\" class=\"dataframe\">\n",
                            "  <thead>\n",
                            "    <tr style=\"text-align: right;\">\n",
                            "      <th></th>\n",
                            "      <th>app_id</th>\n",
                            "      <th>title</th>\n",
                            "    </tr>\n",
                            "  </thead>\n",
                            "  <tbody>\n",
                            "    <tr>\n",
                            "      <th>0</th>\n",
                            "      <td>13500</td>\n",
                            "      <td>Prince of Persia: Warrior Within™</td>\n",
                            "    </tr>\n",
                            "    <tr>\n",
                            "      <th>1</th>\n",
                            "      <td>113020</td>\n",
                            "      <td>Monaco: What's Yours Is Mine</td>\n",
                            "    </tr>\n",
                            "    <tr>\n",
                            "      <th>2</th>\n",
                            "      <td>226560</td>\n",
                            "      <td>Escape Dead Island</td>\n",
                            "    </tr>\n",
                            "    <tr>\n",
                            "      <th>3</th>\n",
                            "      <td>249050</td>\n",
                            "      <td>Dungeon of the ENDLESS™</td>\n",
                            "    </tr>\n",
                            "    <tr>\n",
                            "      <th>4</th>\n",
                            "      <td>250180</td>\n",
                            "      <td>METAL SLUG 3</td>\n",
                            "    </tr>\n",
                            "    <tr>\n",
                            "      <th>6</th>\n",
                            "      <td>282900</td>\n",
                            "      <td>Hyperdimension Neptunia Re;Birth1</td>\n",
                            "    </tr>\n",
                            "    <tr>\n",
                            "      <th>7</th>\n",
                            "      <td>19810</td>\n",
                            "      <td>The Sum of All Fears</td>\n",
                            "    </tr>\n",
                            "    <tr>\n",
                            "      <th>8</th>\n",
                            "      <td>15270</td>\n",
                            "      <td>Cold Fear™</td>\n",
                            "    </tr>\n",
                            "    <tr>\n",
                            "      <th>9</th>\n",
                            "      <td>21130</td>\n",
                            "      <td>LEGO® Harry Potter: Years 1-4</td>\n",
                            "    </tr>\n",
                            "    <tr>\n",
                            "      <th>10</th>\n",
                            "      <td>22130</td>\n",
                            "      <td>Hearts of Iron 2 Complete</td>\n",
                            "    </tr>\n",
                            "  </tbody>\n",
                            "</table style=\"display:inline\">"
                        ]
                    },
                    "metadata": {},
                    "output_type": "display_data"
                },
                {
                    "name": "stdout",
                    "output_type": "stream",
                    "text": [
                        "Games liked by user 11257728:\n"
                    ]
                },
                {
                    "data": {
                        "text/html": [
                            "<table style=\"display:inline\" border=\"1\" class=\"dataframe\">\n",
                            "  <thead>\n",
                            "    <tr style=\"text-align: right;\">\n",
                            "      <th></th>\n",
                            "      <th>app_id</th>\n",
                            "      <th>title</th>\n",
                            "    </tr>\n",
                            "  </thead>\n",
                            "  <tbody>\n",
                            "    <tr>\n",
                            "      <th>523</th>\n",
                            "      <td>204340</td>\n",
                            "      <td>Serious Sam 2</td>\n",
                            "    </tr>\n",
                            "    <tr>\n",
                            "      <th>3045</th>\n",
                            "      <td>208750</td>\n",
                            "      <td>Apotheon</td>\n",
                            "    </tr>\n",
                            "    <tr>\n",
                            "      <th>3126</th>\n",
                            "      <td>50300</td>\n",
                            "      <td>Spec Ops: The Line</td>\n",
                            "    </tr>\n",
                            "    <tr>\n",
                            "      <th>4279</th>\n",
                            "      <td>264200</td>\n",
                            "      <td>One Finger Death Punch</td>\n",
                            "    </tr>\n",
                            "    <tr>\n",
                            "      <th>4843</th>\n",
                            "      <td>252490</td>\n",
                            "      <td>Rust</td>\n",
                            "    </tr>\n",
                            "    <tr>\n",
                            "      <th>4981</th>\n",
                            "      <td>22380</td>\n",
                            "      <td>Fallout: New Vegas</td>\n",
                            "    </tr>\n",
                            "    <tr>\n",
                            "      <th>5267</th>\n",
                            "      <td>243470</td>\n",
                            "      <td>Watch_Dogs™</td>\n",
                            "    </tr>\n",
                            "    <tr>\n",
                            "      <th>5740</th>\n",
                            "      <td>4000</td>\n",
                            "      <td>Garry's Mod</td>\n",
                            "    </tr>\n",
                            "    <tr>\n",
                            "      <th>6094</th>\n",
                            "      <td>206190</td>\n",
                            "      <td>Gunpoint</td>\n",
                            "    </tr>\n",
                            "    <tr>\n",
                            "      <th>6168</th>\n",
                            "      <td>204100</td>\n",
                            "      <td>Max Payne 3</td>\n",
                            "    </tr>\n",
                            "    <tr>\n",
                            "      <th>11966</th>\n",
                            "      <td>219150</td>\n",
                            "      <td>Hotline Miami</td>\n",
                            "    </tr>\n",
                            "    <tr>\n",
                            "      <th>11996</th>\n",
                            "      <td>239820</td>\n",
                            "      <td>Game Dev Tycoon</td>\n",
                            "    </tr>\n",
                            "    <tr>\n",
                            "      <th>12005</th>\n",
                            "      <td>239030</td>\n",
                            "      <td>Papers Please</td>\n",
                            "    </tr>\n",
                            "    <tr>\n",
                            "      <th>12026</th>\n",
                            "      <td>268050</td>\n",
                            "      <td>The Evil Within</td>\n",
                            "    </tr>\n",
                            "    <tr>\n",
                            "      <th>12084</th>\n",
                            "      <td>319630</td>\n",
                            "      <td>Life is Strange - Episode 1</td>\n",
                            "    </tr>\n",
                            "    <tr>\n",
                            "      <th>12114</th>\n",
                            "      <td>346900</td>\n",
                            "      <td>AdVenture Capitalist</td>\n",
                            "    </tr>\n",
                            "  </tbody>\n",
                            "</table style=\"display:inline\">"
                        ]
                    },
                    "metadata": {},
                    "output_type": "display_data"
                },
                {
                    "name": "stdout",
                    "output_type": "stream",
                    "text": [
                        "Games recommended to user 11257728:\n"
                    ]
                },
                {
                    "data": {
                        "text/html": [
                            "<table style=\"display:inline\" border=\"1\" class=\"dataframe\">\n",
                            "  <thead>\n",
                            "    <tr style=\"text-align: right;\">\n",
                            "      <th></th>\n",
                            "      <th>app_id</th>\n",
                            "      <th>title</th>\n",
                            "    </tr>\n",
                            "  </thead>\n",
                            "  <tbody>\n",
                            "    <tr>\n",
                            "      <th>0</th>\n",
                            "      <td>13500</td>\n",
                            "      <td>Prince of Persia: Warrior Within™</td>\n",
                            "    </tr>\n",
                            "    <tr>\n",
                            "      <th>1</th>\n",
                            "      <td>113020</td>\n",
                            "      <td>Monaco: What's Yours Is Mine</td>\n",
                            "    </tr>\n",
                            "    <tr>\n",
                            "      <th>2</th>\n",
                            "      <td>226560</td>\n",
                            "      <td>Escape Dead Island</td>\n",
                            "    </tr>\n",
                            "    <tr>\n",
                            "      <th>3</th>\n",
                            "      <td>249050</td>\n",
                            "      <td>Dungeon of the ENDLESS™</td>\n",
                            "    </tr>\n",
                            "    <tr>\n",
                            "      <th>4</th>\n",
                            "      <td>250180</td>\n",
                            "      <td>METAL SLUG 3</td>\n",
                            "    </tr>\n",
                            "    <tr>\n",
                            "      <th>5</th>\n",
                            "      <td>253980</td>\n",
                            "      <td>Enclave</td>\n",
                            "    </tr>\n",
                            "    <tr>\n",
                            "      <th>6</th>\n",
                            "      <td>282900</td>\n",
                            "      <td>Hyperdimension Neptunia Re;Birth1</td>\n",
                            "    </tr>\n",
                            "    <tr>\n",
                            "      <th>7</th>\n",
                            "      <td>19810</td>\n",
                            "      <td>The Sum of All Fears</td>\n",
                            "    </tr>\n",
                            "    <tr>\n",
                            "      <th>8</th>\n",
                            "      <td>15270</td>\n",
                            "      <td>Cold Fear™</td>\n",
                            "    </tr>\n",
                            "    <tr>\n",
                            "      <th>9</th>\n",
                            "      <td>21130</td>\n",
                            "      <td>LEGO® Harry Potter: Years 1-4</td>\n",
                            "    </tr>\n",
                            "  </tbody>\n",
                            "</table style=\"display:inline\">"
                        ]
                    },
                    "metadata": {},
                    "output_type": "display_data"
                }
            ],
            "source": [
                "sample_recommendation(model, np.random.choice(users['user_id'], 2), K)"
            ]
        },
        {
            "cell_type": "markdown",
            "metadata": {},
            "source": [
                "- [[1](https://arxiv.org/abs/1507.08439)]. Maciej Kula - Metadata Embeddings for User and Item Cold-start Recommendations, 2015. arXiv:1507.08439\n",
                "- [[2](https://making.lyst.com/lightfm/docs/home.html)]. LightFM documentation, \n"
            ]
        }
    ],
    "metadata": {
        "kernelspec": {
            "display_name": "Python 3",
            "language": "python",
            "name": "python3"
        },
        "language_info": {
            "codemirror_mode": {
                "name": "ipython",
                "version": 3
            },
            "file_extension": ".py",
            "mimetype": "text/x-python",
            "name": "python",
            "nbconvert_exporter": "python",
            "pygments_lexer": "ipython3",
            "version": "3.11.2"
        }
    },
    "nbformat": 4,
    "nbformat_minor": 4
}
