{
    "cells": [
        {
            "cell_type": "markdown",
            "metadata": {},
            "source": [
                "# Recommender system on Steam Dataset using LightFM model\n",
                "\n",
                "Almaz Dautov, Damir Abdulayev, DS21-02\n",
                "\n",
                "a.dautov@innopolis.university\n",
                "\n",
                "d.abdulayev@innopolis.university"
            ]
        },
        {
            "cell_type": "markdown",
            "metadata": {},
            "source": [
                "This notebook explains the concept of a hybrid matrix factorisation based model for recommendation, it also outlines the steps to construct a pure matrix factorisation and a hybrid models using the [LightFM](https://github.com/lyst/lightfm) package.\n",
                "\n",
                "### LightFM package \n",
                "\n",
                "LightFM is a Python implementation of a hybrid recommendation algorithms for both implicit and explicit feedbacks [1].\n",
                "\n",
                "It is a hybrid content-collaborative model which represents users and items as linear combinations of their content features’ latent factors. The model learns **embeddings or latent representations of the users and items in such a way that it encodes user preferences over items**. These representations produce scores for every item for a given user; items scored highly are more likely to be interesting to the user.\n",
                "\n",
                "The user and item embeddings are estimated for every feature, and these features are then added together to be the final representations for users and items. \n",
                "\n",
                "#### Modelling approach\n",
                "\n",
                "Let $U$ be the set of users and $I$ be the set of items, and each user can be described by a set of user features $f_{u} \\subset F^{U}$ whilst each items can be described by item features $f_{i} \\subset F^{I}$. Both $F^{U}$ and $F^{I}$ are all the features which fully describe all users and items. \n",
                "\n",
                "The LightFM model operates based binary feedbacks, the ratings will be normalised into two groups. The user-item interaction pairs $(u,i) \\in U\\times I$ are the union of positive (favourable reviews) $S^+$ and negative interactions (negative reviews) $S^-$ for explicit ratings. For implicit feedbacks, these can be the observed and not observed interactions respectively.\n",
                "\n",
                "For each user and item feature, their embeddings are $e_{f}^{U}$ and $e_{f}^{I}$ respectively. Furthermore, each feature is also has a scalar bias term ($b_U^f$ for user and $b_I^f$ for item features). The embedding (latent representation) of user $u$ and item $i$ are the sum of its respective features’ latent vectors:\n",
                "\n",
                "$$ \n",
                "q_{u} = \\sum_{j \\in f_{u}} e_{j}^{U}\n",
                "$$\n",
                "\n",
                "$$\n",
                "p_{i} = \\sum_{j \\in f_{i}} e_{j}^{I}\n",
                "$$\n",
                "\n",
                "Similarly the biases for user $u$ and item $i$ are the sum of its respective bias vectors. These variables capture the variation in behaviour across users and items:\n",
                "\n",
                "$$\n",
                "b_{u} = \\sum_{j \\in f_{u}} b_{j}^{U}\n",
                "$$\n",
                "\n",
                "$$\n",
                "b_{i} = \\sum_{j \\in f_{i}} b_{j}^{I}\n",
                "$$\n",
                "\n",
                "In LightFM, the representation for each user/item is a linear weighted sum of its feature vectors.\n",
                "\n",
                "The prediction for user $u$ and item $i$ can be modelled as sigmoid of the dot product of user and item vectors, adjusted by its feature biases as follows:\n",
                "\n",
                "$$\n",
                "\\hat{r}_{ui} = \\sigma (q_{u} \\cdot p_{i} + b_{u} + b_{i})\n",
                "$$\n",
                "\n",
                "As the LightFM is constructed to predict binary outcomes e.g. $S^+$ and $S^-$, the function $\\sigma()$ is based on the [sigmoid function](https://mathworld.wolfram.com/SigmoidFunction.html). \n",
                "\n",
                "The LightFM algorithm estimates interaction latent vectors and bias for features. For model fitting, the cost function of the model consists of maximising the likelihood of data conditional on the parameters described above using stochastic gradient descent. The likelihood can be expressed as follows:\n",
                "\n",
                "$$\n",
                "L = \\prod_{(u,i) \\in S+}\\hat{r}_{ui} \\times \\prod_{(u,i) \\in S-}1 - \\hat{r}_{ui}\n",
                "$$\n",
                "\n",
                "Note that if the feature latent vectors are not available, the algorithm will behaves like a [logistic matrix factorisation model](http://stanford.edu/~rezab/nips2014workshop/submits/logmat.pdf).[2]"
            ]
        },
        {
            "cell_type": "markdown",
            "metadata": {},
            "source": [
                "### Import libraries"
            ]
        },
        {
            "cell_type": "code",
            "execution_count": 1,
            "metadata": {},
            "outputs": [
                {
                    "name": "stderr",
                    "output_type": "stream",
                    "text": [
                        "/Library/Frameworks/Python.framework/Versions/3.11/lib/python3.11/site-packages/lightfm/_lightfm_fast.py:9: UserWarning: LightFM was compiled without OpenMP support. Only a single thread will be used.\n",
                        "  warnings.warn(\n"
                    ]
                },
                {
                    "name": "stdout",
                    "output_type": "stream",
                    "text": [
                        "LightFM version: 1.17\n"
                    ]
                }
            ],
            "source": [
                "import itertools\n",
                "import pandas as pd\n",
                "import numpy as np\n",
                "import pickle\n",
                "import matplotlib.pyplot as plt\n",
                "from tqdm import tqdm\n",
                "import sys\n",
                "sys.path.append('..')\n",
                "\n",
                "import lightfm\n",
                "from lightfm import LightFM\n",
                "from lightfm.data import Dataset\n",
                "from lightfm import cross_validation\n",
                "\n",
                "from src.evaluate import calculate_metrics\n",
                "\n",
                "print(\"LightFM version: {}\".format(lightfm.__version__))"
            ]
        },
        {
            "cell_type": "markdown",
            "metadata": {},
            "source": [
                "### **Defining variables**"
            ]
        },
        {
            "cell_type": "code",
            "execution_count": 2,
            "metadata": {
                "tags": []
            },
            "outputs": [],
            "source": [
                "# default number of recommendations\n",
                "K = 10\n",
                "# percentage of data used for testing\n",
                "TEST_PERCENTAGE = 0.1\n",
                "# model learning rate\n",
                "LEARNING_RATE = 0.01\n",
                "# no of latent factors\n",
                "NO_COMPONENTS = 200\n",
                "# no of epochs to fit model\n",
                "NO_EPOCHS = 10\n",
                "# no of threads to fit model\n",
                "NO_THREADS = 8\n",
                "\n",
                "# regularisation for both user and item features\n",
                "ITEM_ALPHA = 0\n",
                "USER_ALPHA = 0\n",
                "\n",
                "checkpoint = 'lightFM_hybrid'\n",
                "# seed for pseudonumber generations\n",
                "SEED = 42"
            ]
        },
        {
            "cell_type": "markdown",
            "metadata": {},
            "source": [
                "### **Retrieve data**"
            ]
        },
        {
            "cell_type": "code",
            "execution_count": 3,
            "metadata": {},
            "outputs": [
                {
                    "data": {
                        "text/html": [
                            "<div>\n",
                            "<style scoped>\n",
                            "    .dataframe tbody tr th:only-of-type {\n",
                            "        vertical-align: middle;\n",
                            "    }\n",
                            "\n",
                            "    .dataframe tbody tr th {\n",
                            "        vertical-align: top;\n",
                            "    }\n",
                            "\n",
                            "    .dataframe thead th {\n",
                            "        text-align: right;\n",
                            "    }\n",
                            "</style>\n",
                            "<table border=\"1\" class=\"dataframe\">\n",
                            "  <thead>\n",
                            "    <tr style=\"text-align: right;\">\n",
                            "      <th></th>\n",
                            "      <th>app_id</th>\n",
                            "      <th>is_recommended</th>\n",
                            "      <th>user_id</th>\n",
                            "    </tr>\n",
                            "  </thead>\n",
                            "  <tbody>\n",
                            "    <tr>\n",
                            "      <th>60</th>\n",
                            "      <td>8930</td>\n",
                            "      <td>True</td>\n",
                            "      <td>2289182</td>\n",
                            "    </tr>\n",
                            "    <tr>\n",
                            "      <th>109</th>\n",
                            "      <td>400</td>\n",
                            "      <td>True</td>\n",
                            "      <td>8655693</td>\n",
                            "    </tr>\n",
                            "    <tr>\n",
                            "      <th>150</th>\n",
                            "      <td>22380</td>\n",
                            "      <td>True</td>\n",
                            "      <td>9514330</td>\n",
                            "    </tr>\n",
                            "    <tr>\n",
                            "      <th>510</th>\n",
                            "      <td>39800</td>\n",
                            "      <td>True</td>\n",
                            "      <td>10786300</td>\n",
                            "    </tr>\n",
                            "    <tr>\n",
                            "      <th>526</th>\n",
                            "      <td>39800</td>\n",
                            "      <td>True</td>\n",
                            "      <td>10800490</td>\n",
                            "    </tr>\n",
                            "    <tr>\n",
                            "      <th>...</th>\n",
                            "      <td>...</td>\n",
                            "      <td>...</td>\n",
                            "      <td>...</td>\n",
                            "    </tr>\n",
                            "    <tr>\n",
                            "      <th>32995573</th>\n",
                            "      <td>1850570</td>\n",
                            "      <td>True</td>\n",
                            "      <td>6192881</td>\n",
                            "    </tr>\n",
                            "    <tr>\n",
                            "      <th>32995612</th>\n",
                            "      <td>646570</td>\n",
                            "      <td>True</td>\n",
                            "      <td>1271122</td>\n",
                            "    </tr>\n",
                            "    <tr>\n",
                            "      <th>32995914</th>\n",
                            "      <td>1687950</td>\n",
                            "      <td>True</td>\n",
                            "      <td>8545656</td>\n",
                            "    </tr>\n",
                            "    <tr>\n",
                            "      <th>32996157</th>\n",
                            "      <td>550</td>\n",
                            "      <td>True</td>\n",
                            "      <td>13617023</td>\n",
                            "    </tr>\n",
                            "    <tr>\n",
                            "      <th>32996560</th>\n",
                            "      <td>1515210</td>\n",
                            "      <td>True</td>\n",
                            "      <td>13442269</td>\n",
                            "    </tr>\n",
                            "  </tbody>\n",
                            "</table>\n",
                            "<p>254400 rows × 3 columns</p>\n",
                            "</div>"
                        ],
                        "text/plain": [
                            "           app_id  is_recommended   user_id\n",
                            "60           8930            True   2289182\n",
                            "109           400            True   8655693\n",
                            "150         22380            True   9514330\n",
                            "510         39800            True  10786300\n",
                            "526         39800            True  10800490\n",
                            "...           ...             ...       ...\n",
                            "32995573  1850570            True   6192881\n",
                            "32995612   646570            True   1271122\n",
                            "32995914  1687950            True   8545656\n",
                            "32996157      550            True  13617023\n",
                            "32996560  1515210            True  13442269\n",
                            "\n",
                            "[254400 rows x 3 columns]"
                        ]
                    },
                    "execution_count": 3,
                    "metadata": {},
                    "output_type": "execute_result"
                }
            ],
            "source": [
                "data = pd.read_csv('../data/interim/recs.csv', index_col=0)\n",
                "users = pd.read_csv('../data/interim/users.csv', index_col=0)\n",
                "games = pd.read_csv('../data/interim/games.csv', index_col=0)\n",
                "data"
            ]
        },
        {
            "cell_type": "code",
            "execution_count": 4,
            "metadata": {},
            "outputs": [
                {
                    "data": {
                        "text/html": [
                            "<div>\n",
                            "<style scoped>\n",
                            "    .dataframe tbody tr th:only-of-type {\n",
                            "        vertical-align: middle;\n",
                            "    }\n",
                            "\n",
                            "    .dataframe tbody tr th {\n",
                            "        vertical-align: top;\n",
                            "    }\n",
                            "\n",
                            "    .dataframe thead th {\n",
                            "        text-align: right;\n",
                            "    }\n",
                            "</style>\n",
                            "<table border=\"1\" class=\"dataframe\">\n",
                            "  <thead>\n",
                            "    <tr style=\"text-align: right;\">\n",
                            "      <th></th>\n",
                            "      <th>user_id</th>\n",
                            "      <th>products</th>\n",
                            "      <th>reviews</th>\n",
                            "    </tr>\n",
                            "  </thead>\n",
                            "  <tbody>\n",
                            "    <tr>\n",
                            "      <th>108</th>\n",
                            "      <td>10810521</td>\n",
                            "      <td>products&lt;500</td>\n",
                            "      <td>reviews&lt;50</td>\n",
                            "    </tr>\n",
                            "    <tr>\n",
                            "      <th>1745</th>\n",
                            "      <td>5984062</td>\n",
                            "      <td>products&lt;1000</td>\n",
                            "      <td>reviews&lt;50</td>\n",
                            "    </tr>\n",
                            "    <tr>\n",
                            "      <th>1873</th>\n",
                            "      <td>6365691</td>\n",
                            "      <td>products&lt;1000</td>\n",
                            "      <td>reviews&lt;50</td>\n",
                            "    </tr>\n",
                            "    <tr>\n",
                            "      <th>3116</th>\n",
                            "      <td>8459534</td>\n",
                            "      <td>products&gt;1000</td>\n",
                            "      <td>reviews&lt;50</td>\n",
                            "    </tr>\n",
                            "    <tr>\n",
                            "      <th>3376</th>\n",
                            "      <td>8869189</td>\n",
                            "      <td>products&lt;100</td>\n",
                            "      <td>reviews&lt;50</td>\n",
                            "    </tr>\n",
                            "    <tr>\n",
                            "      <th>...</th>\n",
                            "      <td>...</td>\n",
                            "      <td>...</td>\n",
                            "      <td>...</td>\n",
                            "    </tr>\n",
                            "    <tr>\n",
                            "      <th>13777380</th>\n",
                            "      <td>1616561</td>\n",
                            "      <td>products&lt;100</td>\n",
                            "      <td>reviews&lt;50</td>\n",
                            "    </tr>\n",
                            "    <tr>\n",
                            "      <th>13777984</th>\n",
                            "      <td>1767137</td>\n",
                            "      <td>products&lt;100</td>\n",
                            "      <td>reviews&lt;50</td>\n",
                            "    </tr>\n",
                            "    <tr>\n",
                            "      <th>13780841</th>\n",
                            "      <td>2511017</td>\n",
                            "      <td>products&lt;100</td>\n",
                            "      <td>reviews&lt;50</td>\n",
                            "    </tr>\n",
                            "    <tr>\n",
                            "      <th>13782400</th>\n",
                            "      <td>2952064</td>\n",
                            "      <td>products&lt;500</td>\n",
                            "      <td>reviews&lt;50</td>\n",
                            "    </tr>\n",
                            "    <tr>\n",
                            "      <th>13786428</th>\n",
                            "      <td>4538785</td>\n",
                            "      <td>products&lt;50</td>\n",
                            "      <td>reviews&lt;50</td>\n",
                            "    </tr>\n",
                            "  </tbody>\n",
                            "</table>\n",
                            "<p>12720 rows × 3 columns</p>\n",
                            "</div>"
                        ],
                        "text/plain": [
                            "           user_id       products     reviews\n",
                            "108       10810521   products<500  reviews<50\n",
                            "1745       5984062  products<1000  reviews<50\n",
                            "1873       6365691  products<1000  reviews<50\n",
                            "3116       8459534  products>1000  reviews<50\n",
                            "3376       8869189   products<100  reviews<50\n",
                            "...            ...            ...         ...\n",
                            "13777380   1616561   products<100  reviews<50\n",
                            "13777984   1767137   products<100  reviews<50\n",
                            "13780841   2511017   products<100  reviews<50\n",
                            "13782400   2952064   products<500  reviews<50\n",
                            "13786428   4538785    products<50  reviews<50\n",
                            "\n",
                            "[12720 rows x 3 columns]"
                        ]
                    },
                    "execution_count": 4,
                    "metadata": {},
                    "output_type": "execute_result"
                }
            ],
            "source": [
                "users"
            ]
        },
        {
            "cell_type": "code",
            "execution_count": 5,
            "metadata": {},
            "outputs": [
                {
                    "data": {
                        "text/html": [
                            "<div>\n",
                            "<style scoped>\n",
                            "    .dataframe tbody tr th:only-of-type {\n",
                            "        vertical-align: middle;\n",
                            "    }\n",
                            "\n",
                            "    .dataframe tbody tr th {\n",
                            "        vertical-align: top;\n",
                            "    }\n",
                            "\n",
                            "    .dataframe thead th {\n",
                            "        text-align: right;\n",
                            "    }\n",
                            "</style>\n",
                            "<table border=\"1\" class=\"dataframe\">\n",
                            "  <thead>\n",
                            "    <tr style=\"text-align: right;\">\n",
                            "      <th></th>\n",
                            "      <th>app_id</th>\n",
                            "      <th>title</th>\n",
                            "      <th>win</th>\n",
                            "      <th>mac</th>\n",
                            "      <th>linux</th>\n",
                            "      <th>rating</th>\n",
                            "      <th>positive_ratio</th>\n",
                            "      <th>user_reviews</th>\n",
                            "      <th>discount</th>\n",
                            "      <th>steam_deck</th>\n",
                            "      <th>price</th>\n",
                            "      <th>tags</th>\n",
                            "    </tr>\n",
                            "  </thead>\n",
                            "  <tbody>\n",
                            "    <tr>\n",
                            "      <th>0</th>\n",
                            "      <td>13500</td>\n",
                            "      <td>Prince of Persia: Warrior Within™</td>\n",
                            "      <td>win_True</td>\n",
                            "      <td>mac_False</td>\n",
                            "      <td>linux_False</td>\n",
                            "      <td>Very Positive</td>\n",
                            "      <td>positive_ratio_80</td>\n",
                            "      <td>user_reviews1000</td>\n",
                            "      <td>discount0</td>\n",
                            "      <td>steam_deck_True</td>\n",
                            "      <td>price&lt;10</td>\n",
                            "      <td>Action, Adventure, Parkour, Third Person, Grea...</td>\n",
                            "    </tr>\n",
                            "    <tr>\n",
                            "      <th>1</th>\n",
                            "      <td>113020</td>\n",
                            "      <td>Monaco: What's Yours Is Mine</td>\n",
                            "      <td>win_True</td>\n",
                            "      <td>mac_True</td>\n",
                            "      <td>linux_True</td>\n",
                            "      <td>Very Positive</td>\n",
                            "      <td>positive_ratio_90</td>\n",
                            "      <td>user_reviews1000</td>\n",
                            "      <td>discount0</td>\n",
                            "      <td>steam_deck_True</td>\n",
                            "      <td>price&lt;20</td>\n",
                            "      <td>Co-op, Stealth, Indie, Heist, Local Co-Op, Str...</td>\n",
                            "    </tr>\n",
                            "    <tr>\n",
                            "      <th>2</th>\n",
                            "      <td>226560</td>\n",
                            "      <td>Escape Dead Island</td>\n",
                            "      <td>win_True</td>\n",
                            "      <td>mac_False</td>\n",
                            "      <td>linux_False</td>\n",
                            "      <td>Mixed</td>\n",
                            "      <td>positive_ratio_60</td>\n",
                            "      <td>user_reviews100</td>\n",
                            "      <td>discount0</td>\n",
                            "      <td>steam_deck_True</td>\n",
                            "      <td>price&lt;20</td>\n",
                            "      <td>Zombies, Adventure, Survival, Action, Third Pe...</td>\n",
                            "    </tr>\n",
                            "    <tr>\n",
                            "      <th>3</th>\n",
                            "      <td>249050</td>\n",
                            "      <td>Dungeon of the ENDLESS™</td>\n",
                            "      <td>win_True</td>\n",
                            "      <td>mac_True</td>\n",
                            "      <td>linux_False</td>\n",
                            "      <td>Very Positive</td>\n",
                            "      <td>positive_ratio_80</td>\n",
                            "      <td>user_reviews1000</td>\n",
                            "      <td>discount0</td>\n",
                            "      <td>steam_deck_True</td>\n",
                            "      <td>price&lt;20</td>\n",
                            "      <td>Roguelike, Strategy, Tower Defense, Pixel Grap...</td>\n",
                            "    </tr>\n",
                            "    <tr>\n",
                            "      <th>4</th>\n",
                            "      <td>250180</td>\n",
                            "      <td>METAL SLUG 3</td>\n",
                            "      <td>win_True</td>\n",
                            "      <td>mac_False</td>\n",
                            "      <td>linux_False</td>\n",
                            "      <td>Very Positive</td>\n",
                            "      <td>positive_ratio_90</td>\n",
                            "      <td>user_reviews1000</td>\n",
                            "      <td>discount0</td>\n",
                            "      <td>steam_deck_True</td>\n",
                            "      <td>price&lt;10</td>\n",
                            "      <td>Arcade, Classic, Action, Co-op, Side Scroller,...</td>\n",
                            "    </tr>\n",
                            "    <tr>\n",
                            "      <th>...</th>\n",
                            "      <td>...</td>\n",
                            "      <td>...</td>\n",
                            "      <td>...</td>\n",
                            "      <td>...</td>\n",
                            "      <td>...</td>\n",
                            "      <td>...</td>\n",
                            "      <td>...</td>\n",
                            "      <td>...</td>\n",
                            "      <td>...</td>\n",
                            "      <td>...</td>\n",
                            "      <td>...</td>\n",
                            "      <td>...</td>\n",
                            "    </tr>\n",
                            "    <tr>\n",
                            "      <th>13073</th>\n",
                            "      <td>632470</td>\n",
                            "      <td>Disco Elysium - The Final Cut</td>\n",
                            "      <td>win_True</td>\n",
                            "      <td>mac_True</td>\n",
                            "      <td>linux_False</td>\n",
                            "      <td>Very Positive</td>\n",
                            "      <td>positive_ratio_90</td>\n",
                            "      <td>user_reviews10000</td>\n",
                            "      <td>discount0</td>\n",
                            "      <td>steam_deck_True</td>\n",
                            "      <td>price&lt;50</td>\n",
                            "      <td>NoTag</td>\n",
                            "    </tr>\n",
                            "    <tr>\n",
                            "      <th>13074</th>\n",
                            "      <td>1599660</td>\n",
                            "      <td>Sackboy™: A Big Adventure</td>\n",
                            "      <td>win_True</td>\n",
                            "      <td>mac_False</td>\n",
                            "      <td>linux_False</td>\n",
                            "      <td>Very Positive</td>\n",
                            "      <td>positive_ratio_80</td>\n",
                            "      <td>user_reviews1000</td>\n",
                            "      <td>discount0</td>\n",
                            "      <td>steam_deck_True</td>\n",
                            "      <td>price&gt;50</td>\n",
                            "      <td>NoTag</td>\n",
                            "    </tr>\n",
                            "    <tr>\n",
                            "      <th>13075</th>\n",
                            "      <td>250900</td>\n",
                            "      <td>The Binding of Isaac: Rebirth</td>\n",
                            "      <td>win_True</td>\n",
                            "      <td>mac_True</td>\n",
                            "      <td>linux_True</td>\n",
                            "      <td>Overwhelmingly Positive</td>\n",
                            "      <td>positive_ratio_90</td>\n",
                            "      <td>user_reviews100000</td>\n",
                            "      <td>discount0</td>\n",
                            "      <td>steam_deck_True</td>\n",
                            "      <td>price&lt;20</td>\n",
                            "      <td>NoTag</td>\n",
                            "    </tr>\n",
                            "    <tr>\n",
                            "      <th>13076</th>\n",
                            "      <td>920210</td>\n",
                            "      <td>LEGO® Star Wars™: The Skywalker Saga</td>\n",
                            "      <td>win_True</td>\n",
                            "      <td>mac_False</td>\n",
                            "      <td>linux_False</td>\n",
                            "      <td>Very Positive</td>\n",
                            "      <td>positive_ratio_90</td>\n",
                            "      <td>user_reviews10000</td>\n",
                            "      <td>discount0</td>\n",
                            "      <td>steam_deck_True</td>\n",
                            "      <td>price&gt;50</td>\n",
                            "      <td>NoTag</td>\n",
                            "    </tr>\n",
                            "    <tr>\n",
                            "      <th>13077</th>\n",
                            "      <td>1361510</td>\n",
                            "      <td>Teenage Mutant Ninja Turtles: Shredder's Revenge</td>\n",
                            "      <td>win_True</td>\n",
                            "      <td>mac_False</td>\n",
                            "      <td>linux_True</td>\n",
                            "      <td>Very Positive</td>\n",
                            "      <td>positive_ratio_90</td>\n",
                            "      <td>user_reviews10000</td>\n",
                            "      <td>discount0</td>\n",
                            "      <td>steam_deck_True</td>\n",
                            "      <td>price&lt;20</td>\n",
                            "      <td>NoTag</td>\n",
                            "    </tr>\n",
                            "  </tbody>\n",
                            "</table>\n",
                            "<p>13078 rows × 12 columns</p>\n",
                            "</div>"
                        ],
                        "text/plain": [
                            "        app_id                                             title       win   \n",
                            "0        13500                 Prince of Persia: Warrior Within™  win_True  \\\n",
                            "1       113020                      Monaco: What's Yours Is Mine  win_True   \n",
                            "2       226560                                Escape Dead Island  win_True   \n",
                            "3       249050                           Dungeon of the ENDLESS™  win_True   \n",
                            "4       250180                                      METAL SLUG 3  win_True   \n",
                            "...        ...                                               ...       ...   \n",
                            "13073   632470                     Disco Elysium - The Final Cut  win_True   \n",
                            "13074  1599660                         Sackboy™: A Big Adventure  win_True   \n",
                            "13075   250900                     The Binding of Isaac: Rebirth  win_True   \n",
                            "13076   920210              LEGO® Star Wars™: The Skywalker Saga  win_True   \n",
                            "13077  1361510  Teenage Mutant Ninja Turtles: Shredder's Revenge  win_True   \n",
                            "\n",
                            "             mac        linux                   rating     positive_ratio   \n",
                            "0      mac_False  linux_False            Very Positive  positive_ratio_80  \\\n",
                            "1       mac_True   linux_True            Very Positive  positive_ratio_90   \n",
                            "2      mac_False  linux_False                    Mixed  positive_ratio_60   \n",
                            "3       mac_True  linux_False            Very Positive  positive_ratio_80   \n",
                            "4      mac_False  linux_False            Very Positive  positive_ratio_90   \n",
                            "...          ...          ...                      ...                ...   \n",
                            "13073   mac_True  linux_False            Very Positive  positive_ratio_90   \n",
                            "13074  mac_False  linux_False            Very Positive  positive_ratio_80   \n",
                            "13075   mac_True   linux_True  Overwhelmingly Positive  positive_ratio_90   \n",
                            "13076  mac_False  linux_False            Very Positive  positive_ratio_90   \n",
                            "13077  mac_False   linux_True            Very Positive  positive_ratio_90   \n",
                            "\n",
                            "             user_reviews   discount       steam_deck     price   \n",
                            "0        user_reviews1000  discount0  steam_deck_True  price<10  \\\n",
                            "1        user_reviews1000  discount0  steam_deck_True  price<20   \n",
                            "2         user_reviews100  discount0  steam_deck_True  price<20   \n",
                            "3        user_reviews1000  discount0  steam_deck_True  price<20   \n",
                            "4        user_reviews1000  discount0  steam_deck_True  price<10   \n",
                            "...                   ...        ...              ...       ...   \n",
                            "13073   user_reviews10000  discount0  steam_deck_True  price<50   \n",
                            "13074    user_reviews1000  discount0  steam_deck_True  price>50   \n",
                            "13075  user_reviews100000  discount0  steam_deck_True  price<20   \n",
                            "13076   user_reviews10000  discount0  steam_deck_True  price>50   \n",
                            "13077   user_reviews10000  discount0  steam_deck_True  price<20   \n",
                            "\n",
                            "                                                    tags  \n",
                            "0      Action, Adventure, Parkour, Third Person, Grea...  \n",
                            "1      Co-op, Stealth, Indie, Heist, Local Co-Op, Str...  \n",
                            "2      Zombies, Adventure, Survival, Action, Third Pe...  \n",
                            "3      Roguelike, Strategy, Tower Defense, Pixel Grap...  \n",
                            "4      Arcade, Classic, Action, Co-op, Side Scroller,...  \n",
                            "...                                                  ...  \n",
                            "13073                                              NoTag  \n",
                            "13074                                              NoTag  \n",
                            "13075                                              NoTag  \n",
                            "13076                                              NoTag  \n",
                            "13077                                              NoTag  \n",
                            "\n",
                            "[13078 rows x 12 columns]"
                        ]
                    },
                    "execution_count": 5,
                    "metadata": {},
                    "output_type": "execute_result"
                }
            ],
            "source": [
                "games"
            ]
        },
        {
            "cell_type": "markdown",
            "metadata": {},
            "source": [
                "### **Preprocessing**"
            ]
        },
        {
            "cell_type": "code",
            "execution_count": 6,
            "metadata": {},
            "outputs": [],
            "source": [
                "games_cols = ['win', 'mac', 'linux', 'rating', 'positive_ratio', 'user_reviews', 'discount', 'steam_deck', 'price', 'tags']\n",
                "\n",
                "user_cols = ['products', 'reviews']\n",
                "\n",
                "\n",
                "game_tags = list(set(itertools.chain.from_iterable([x.split(', ') for x in games['tags']])))\n",
                "all_item_features = np.concatenate([games[col].unique() for col in games_cols[:-1]]).tolist() + game_tags\n",
                "all_user_features = np.concatenate([users[col].unique() for col in user_cols]).tolist()"
            ]
        },
        {
            "cell_type": "code",
            "execution_count": 7,
            "metadata": {},
            "outputs": [
                {
                    "name": "stdout",
                    "output_type": "stream",
                    "text": [
                        "['win_True', 'win_False', 'mac_False', 'mac_True', 'linux_False', 'linux_True', 'Very Positive', 'Mixed', 'Mostly Positive', 'Overwhelmingly Positive']\n",
                        "['products<500', 'products<1000', 'products>1000', 'products<100', 'products<200', 'products<50', 'products<10', 'reviews<50', 'reviews<100', 'reviews<200']\n"
                    ]
                }
            ],
            "source": [
                "print(all_item_features[:10])\n",
                "print(all_user_features[:10])"
            ]
        },
        {
            "cell_type": "markdown",
            "metadata": {},
            "source": [
                "Before fitting the LightFM model, we need to create an instance of `Dataset` which holds the interaction matrix."
            ]
        },
        {
            "cell_type": "code",
            "execution_count": 8,
            "metadata": {},
            "outputs": [],
            "source": [
                "dataset = Dataset()"
            ]
        },
        {
            "cell_type": "markdown",
            "metadata": {},
            "source": [
                "The `fit` method creates the user/item id mappings."
            ]
        },
        {
            "cell_type": "code",
            "execution_count": 9,
            "metadata": {},
            "outputs": [
                {
                    "name": "stdout",
                    "output_type": "stream",
                    "text": [
                        "Num users: 12720, num_items: 13078.\n"
                    ]
                }
            ],
            "source": [
                "dataset.fit(\n",
                "    users=users['user_id'], \n",
                "    items=games['app_id'],\n",
                "    user_features=all_user_features,\n",
                "    item_features=all_item_features\n",
                ")\n",
                "\n",
                "# quick check to determine the number of unique users and items in the data\n",
                "num_users, num_items = dataset.interactions_shape()\n",
                "print(f'Num users: {num_users}, num_items: {num_items}.')"
            ]
        },
        {
            "cell_type": "code",
            "execution_count": 10,
            "metadata": {},
            "outputs": [],
            "source": [
                "(interactions, weights) = dataset.build_interactions(zip(data['user_id'], data['app_id']))"
            ]
        },
        {
            "cell_type": "code",
            "execution_count": 11,
            "metadata": {},
            "outputs": [],
            "source": [
                "def item_feature_generator():\n",
                "    for i, row in games.iterrows():\n",
                "        features = row.values[2:-1].tolist() + row['tags'].split(', ')\n",
                "        yield (row['app_id'], features)\n",
                "\n",
                "def user_feature_generator():\n",
                "    for i, row in users.iterrows():\n",
                "        features = row.values[1:]\n",
                "        yield (row['user_id'], features)"
            ]
        },
        {
            "cell_type": "code",
            "execution_count": 12,
            "metadata": {},
            "outputs": [],
            "source": [
                "item_features = dataset.build_item_features((item_id, item_feature) for item_id, item_feature in item_feature_generator())\n",
                "user_features = dataset.build_user_features((user_id, user_feature) for user_id, user_feature in user_feature_generator())"
            ]
        },
        {
            "cell_type": "markdown",
            "metadata": {},
            "source": [
                "Next is to build the interaction matrix. The `build_interactions` method returns 2 COO sparse matrices, namely the `interactions` and `weights` matrices."
            ]
        },
        {
            "cell_type": "markdown",
            "metadata": {},
            "source": [
                "LightLM works slightly differently compared to other packages as it expects the train and test sets to have same dimension. Therefore the conventional train test split will not work.\n",
                "\n",
                "The package has included the `cross_validation.random_train_test_split` method to split the interaction data and splits it into two disjoint training and test sets. \n",
                "\n",
                "However, note that **it does not validate the interactions in the test set to guarantee all items and users have historical interactions in the training set**. Therefore this may result into a partial cold-start problem in the test set."
            ]
        },
        {
            "cell_type": "code",
            "execution_count": 13,
            "metadata": {},
            "outputs": [],
            "source": [
                "train_interactions, test_interactions = cross_validation.random_train_test_split(\n",
                "    interactions, test_percentage=TEST_PERCENTAGE,\n",
                "    random_state=np.random.RandomState(SEED)\n",
                ")"
            ]
        },
        {
            "cell_type": "markdown",
            "metadata": {},
            "source": [
                "Extract indicies of test data \n",
                "\n",
                "(shuffle with the same SEED actually returns the same indicies, as it did in random_train_test_split, otherwise we can't get indicies)"
            ]
        },
        {
            "cell_type": "code",
            "execution_count": 14,
            "metadata": {},
            "outputs": [],
            "source": [
                "uids, iids, data_interaction = cross_validation._shuffle(interactions.row, interactions.col, interactions.data, np.random.RandomState(SEED))\n",
                "\n",
                "cutoff = int((1.0 - TEST_PERCENTAGE) * len(uids))\n",
                "test_idx = slice(cutoff, None)\n",
                "train_idx = slice(None, cutoff)\n",
                "\n",
                "test_uids, test_iids = uids[test_idx], iids[test_idx]\n",
                "train_uids, train_iids = uids[train_idx], iids[train_idx]"
            ]
        },
        {
            "cell_type": "markdown",
            "metadata": {},
            "source": [
                "Double check the size of both the train and test sets."
            ]
        },
        {
            "cell_type": "code",
            "execution_count": 15,
            "metadata": {},
            "outputs": [
                {
                    "name": "stdout",
                    "output_type": "stream",
                    "text": [
                        "Shape of train interactions: (12720, 13078)\n",
                        "Shape of test interactions: (12720, 13078)\n"
                    ]
                }
            ],
            "source": [
                "print(f\"Shape of train interactions: {train_interactions.shape}\")\n",
                "print(f\"Shape of test interactions: {test_interactions.shape}\")"
            ]
        },
        {
            "cell_type": "markdown",
            "metadata": {},
            "source": [
                "### Fit the LightFM model"
            ]
        },
        {
            "cell_type": "code",
            "execution_count": 16,
            "metadata": {
                "scrolled": true
            },
            "outputs": [],
            "source": [
                "model = LightFM(\n",
                "    loss='warp', \n",
                "    no_components=NO_COMPONENTS, \n",
                "    learning_rate=LEARNING_RATE,\n",
                "    random_state=np.random.RandomState(SEED)\n",
                ")"
            ]
        },
        {
            "cell_type": "code",
            "execution_count": 17,
            "metadata": {},
            "outputs": [],
            "source": [
                "def save_model(model):\n",
                "    with open(f'../models/{checkpoint}.pickle', 'wb') as fle:\n",
                "        pickle.dump(model, fle, protocol=pickle.HIGHEST_PROTOCOL)"
            ]
        },
        {
            "cell_type": "markdown",
            "metadata": {},
            "source": [
                "The LightFM model can be fitted with the following code:\n",
                "\n",
                "Unfortunately loss can't be tracked :("
            ]
        },
        {
            "cell_type": "code",
            "execution_count": 18,
            "metadata": {},
            "outputs": [
                {
                    "name": "stderr",
                    "output_type": "stream",
                    "text": [
                        " 10%|█         | 1/10 [07:31<1:07:43, 451.55s/it]"
                    ]
                },
                {
                    "name": "stdout",
                    "output_type": "stream",
                    "text": [
                        "Epoch 1/10, Train auc: 0.900924563407898, Test auc: 0.9021596908569336\n"
                    ]
                },
                {
                    "name": "stderr",
                    "output_type": "stream",
                    "text": [
                        " 20%|██        | 2/10 [15:05<1:00:25, 453.22s/it]"
                    ]
                },
                {
                    "name": "stdout",
                    "output_type": "stream",
                    "text": [
                        "Epoch 2/10, Train auc: 0.9029856324195862, Test auc: 0.9038851857185364\n"
                    ]
                },
                {
                    "name": "stderr",
                    "output_type": "stream",
                    "text": [
                        " 30%|███       | 3/10 [22:38<52:50, 452.90s/it]  "
                    ]
                },
                {
                    "name": "stdout",
                    "output_type": "stream",
                    "text": [
                        "Epoch 3/10, Train auc: 0.9043790102005005, Test auc: 0.9050176739692688\n"
                    ]
                },
                {
                    "name": "stderr",
                    "output_type": "stream",
                    "text": [
                        " 40%|████      | 4/10 [30:11<45:16, 452.77s/it]"
                    ]
                },
                {
                    "name": "stdout",
                    "output_type": "stream",
                    "text": [
                        "Epoch 4/10, Train auc: 0.9055447578430176, Test auc: 0.9058825373649597\n"
                    ]
                },
                {
                    "name": "stderr",
                    "output_type": "stream",
                    "text": [
                        " 50%|█████     | 5/10 [37:44<37:44, 452.98s/it]"
                    ]
                },
                {
                    "name": "stdout",
                    "output_type": "stream",
                    "text": [
                        "Epoch 5/10, Train auc: 0.9065908789634705, Test auc: 0.9066278338432312\n"
                    ]
                },
                {
                    "name": "stderr",
                    "output_type": "stream",
                    "text": [
                        " 60%|██████    | 6/10 [45:19<30:15, 453.77s/it]"
                    ]
                },
                {
                    "name": "stdout",
                    "output_type": "stream",
                    "text": [
                        "Epoch 6/10, Train auc: 0.9074203372001648, Test auc: 0.9071269035339355\n"
                    ]
                },
                {
                    "name": "stderr",
                    "output_type": "stream",
                    "text": [
                        " 70%|███████   | 7/10 [52:58<22:46, 455.58s/it]"
                    ]
                },
                {
                    "name": "stdout",
                    "output_type": "stream",
                    "text": [
                        "Epoch 7/10, Train auc: 0.9082333445549011, Test auc: 0.9076442122459412\n"
                    ]
                },
                {
                    "name": "stderr",
                    "output_type": "stream",
                    "text": [
                        " 80%|████████  | 8/10 [1:00:42<15:16, 458.24s/it]"
                    ]
                },
                {
                    "name": "stdout",
                    "output_type": "stream",
                    "text": [
                        "Epoch 8/10, Train auc: 0.9088540077209473, Test auc: 0.9079556465148926\n"
                    ]
                },
                {
                    "name": "stderr",
                    "output_type": "stream",
                    "text": [
                        " 90%|█████████ | 9/10 [1:08:25<07:39, 459.66s/it]"
                    ]
                },
                {
                    "name": "stdout",
                    "output_type": "stream",
                    "text": [
                        "Epoch 9/10, Train auc: 0.9095675349235535, Test auc: 0.9083054065704346\n"
                    ]
                },
                {
                    "name": "stderr",
                    "output_type": "stream",
                    "text": [
                        "100%|██████████| 10/10 [1:16:08<00:00, 456.80s/it]"
                    ]
                },
                {
                    "name": "stdout",
                    "output_type": "stream",
                    "text": [
                        "Epoch 10/10, Train auc: 0.9101619124412537, Test auc: 0.908622145652771\n"
                    ]
                },
                {
                    "name": "stderr",
                    "output_type": "stream",
                    "text": [
                        "\n"
                    ]
                }
            ],
            "source": [
                "train_history = {\n",
                "    'AUC': [],\n",
                "    'Precision': [],\n",
                "    'Recall': [],\n",
                "}\n",
                "\n",
                "test_history = {\n",
                "    'AUC': [],\n",
                "    'Precision': [],\n",
                "    'Recall': [],\n",
                "}\n",
                "\n",
                "best_score = 0\n",
                "\n",
                "for epoch in tqdm(range(NO_EPOCHS)):\n",
                "    \n",
                "    model.fit_partial(\n",
                "        interactions=train_interactions,\n",
                "        user_features=user_features,\n",
                "        item_features=item_features,\n",
                "        epochs=1,\n",
                "        num_threads=NO_THREADS\n",
                "    )\n",
                "    \n",
                "    train_precision, train_recall, train_auc = calculate_metrics(model, train_interactions, None, item_features, user_features, K)\n",
                "    test_precision, test_recall, test_auc = calculate_metrics(model, test_interactions, train_interactions,  item_features, user_features, K)\n",
                "\n",
                "    train_history['AUC'].append(train_auc)\n",
                "    train_history['Precision'].append(train_precision)\n",
                "    train_history['Recall'].append(train_recall)\n",
                "\n",
                "    test_history['AUC'].append(test_auc)\n",
                "    test_history['Precision'].append(test_precision)\n",
                "    test_history['Recall'].append(test_recall)\n",
                "\n",
                "    if test_auc > best_score:\n",
                "        best_score = test_auc\n",
                "        save_model(model)\n",
                "\n",
                "    print(f'Epoch {epoch + 1}/{NO_EPOCHS}, Train auc: {train_auc}, Test auc: {test_auc}')"
            ]
        },
        {
            "cell_type": "markdown",
            "metadata": {},
            "source": [
                "### Model evaluation"
            ]
        },
        {
            "cell_type": "code",
            "execution_count": 19,
            "metadata": {},
            "outputs": [
                {
                    "data": {
                        "image/png": "[encoded data removed]",
                        "text/plain": [
                            "<Figure size 1200x1500 with 3 Axes>"
                        ]
                    },
                    "metadata": {},
                    "output_type": "display_data"
                }
            ],
            "source": [
                "epochs = range(1, NO_EPOCHS + 1)\n",
                "\n",
                "# Create subplots\n",
                "fig, axs = plt.subplots(3, 1, figsize=(12, 15), sharex=True)\n",
                "\n",
                "# Plot AUC\n",
                "axs[0].plot(epochs, train_history['AUC'], label='Train AUC', marker='o')\n",
                "axs[0].plot(epochs, test_history['AUC'], label='Test AUC', marker='o')\n",
                "axs[0].set_ylabel('AUC')\n",
                "axs[0].legend()\n",
                "\n",
                "# Plot Precision\n",
                "axs[1].plot(epochs, train_history['Precision'], label='Train Precision', marker='o')\n",
                "axs[1].plot(epochs, test_history['Precision'], label='Test Precision', marker='o')\n",
                "axs[1].set_ylabel('Precision')\n",
                "axs[1].legend()\n",
                "\n",
                "# Plot Recall\n",
                "axs[2].plot(epochs, train_history['Recall'], label='Train Recall', marker='o')\n",
                "axs[2].plot(epochs, test_history['Recall'], label='Test Recall', marker='o')\n",
                "axs[2].set_xlabel('Epochs')\n",
                "axs[2].set_ylabel('Recall')\n",
                "axs[2].legend()\n",
                "\n",
                "plt.suptitle('Metrics Over Epochs', y=0.92)\n",
                "plt.show()\n"
            ]
        },
        {
            "cell_type": "code",
            "execution_count": 20,
            "metadata": {},
            "outputs": [
                {
                    "name": "stdout",
                    "output_type": "stream",
                    "text": [
                        "Precision@10: 0.011052632704377174\n",
                        "Recall@10: 0.04796695127649633\n",
                        "test ROC AUC: 0.908622145652771\n"
                    ]
                }
            ],
            "source": [
                "# Evaluate precision at k on the test data\n",
                "print(f'Precision@{K}: {test_history[\"Precision\"][-1]}')\n",
                "print(f'Recall@{K}: {test_history[\"Recall\"][-1]}')\n",
                "print(f'test ROC AUC: {test_history[\"AUC\"][-1]}')"
            ]
        },
        {
            "cell_type": "markdown",
            "metadata": {},
            "source": [
                "### **Let's see recommendation on example**"
            ]
        },
        {
            "cell_type": "code",
            "execution_count": 21,
            "metadata": {},
            "outputs": [],
            "source": [
                "from IPython.display import display_html\n",
                "def display_side_by_side(*args):\n",
                "    html_str=''\n",
                "    for df in args:\n",
                "        html_str+=df.to_html()\n",
                "    display_html(html_str.replace('table','table style=\"display:inline\"'),raw=True)"
            ]
        },
        {
            "cell_type": "code",
            "execution_count": 56,
            "metadata": {},
            "outputs": [],
            "source": [
                "def sample_recommendation(model, user_ids, k):\n",
                "    mapper_to_internal_ids = dataset.mapping()[2]\n",
                "    mapper_to_external_ids = {v: k for k, v in mapper_to_internal_ids.items()}\n",
                "\n",
                "    user_mapper_to_internal = dataset.mapping()[0]\n",
                "    user_mapper_to_external = {v: k for k, v in user_mapper_to_internal.items()}\n",
                "    user_ids = np.vectorize(user_mapper_to_internal.get)(user_ids)\n",
                "    \n",
                "    for user_id in user_ids:\n",
                "\n",
                "        print(f'Games liked by user {user_mapper_to_external[user_id]}:')\n",
                "\n",
                "        train_item_ids = [iid for uid, iid in zip(train_uids, train_iids) if uid == user_id]\n",
                "        games_liked = games[games['app_id'].isin(np.vectorize(mapper_to_external_ids.get)(train_item_ids))]\n",
                "\n",
                "        display_side_by_side(games_liked[['app_id', 'title']])\n",
                "\n",
                "        scores = model.predict(\n",
                "            int(user_id),\n",
                "            list(mapper_to_internal_ids.values()),   \n",
                "            user_features=user_features,\n",
                "            item_features=item_features\n",
                "        )\n",
                "        top_k_indices = np.argsort(-scores)[:k]\n",
                "        print(f'Games recommended to user {user_mapper_to_external[user_id]}:')\n",
                "        games_recommended = games[games['app_id'].isin(np.vectorize(mapper_to_external_ids.get)(top_k_indices))]\n",
                "        display_side_by_side(games_recommended[['app_id', 'title']])\n",
                "\n"
            ]
        },
        {
            "cell_type": "markdown",
            "metadata": {},
            "source": [
                "## References"
            ]
        },
        {
            "cell_type": "code",
            "execution_count": 59,
            "metadata": {},
            "outputs": [
                {
                    "name": "stdout",
                    "output_type": "stream",
                    "text": [
                        "Games liked by user 197594:\n"
                    ]
                },
                {
                    "data": {
                        "text/html": [
                            "<table style=\"display:inline\" border=\"1\" class=\"dataframe\">\n",
                            "  <thead>\n",
                            "    <tr style=\"text-align: right;\">\n",
                            "      <th></th>\n",
                            "      <th>app_id</th>\n",
                            "      <th>title</th>\n",
                            "    </tr>\n",
                            "  </thead>\n",
                            "  <tbody>\n",
                            "    <tr>\n",
                            "      <th>224</th>\n",
                            "      <td>552520</td>\n",
                            "      <td>Far Cry® 5</td>\n",
                            "    </tr>\n",
                            "    <tr>\n",
                            "      <th>4610</th>\n",
                            "      <td>220</td>\n",
                            "      <td>Half-Life 2</td>\n",
                            "    </tr>\n",
                            "    <tr>\n",
                            "      <th>4704</th>\n",
                            "      <td>292030</td>\n",
                            "      <td>The Witcher® 3: Wild Hunt</td>\n",
                            "    </tr>\n",
                            "    <tr>\n",
                            "      <th>4846</th>\n",
                            "      <td>412020</td>\n",
                            "      <td>Metro Exodus</td>\n",
                            "    </tr>\n",
                            "    <tr>\n",
                            "      <th>4984</th>\n",
                            "      <td>812140</td>\n",
                            "      <td>Assassin's Creed® Odyssey</td>\n",
                            "    </tr>\n",
                            "    <tr>\n",
                            "      <th>11835</th>\n",
                            "      <td>240</td>\n",
                            "      <td>Counter-Strike: Source</td>\n",
                            "    </tr>\n",
                            "    <tr>\n",
                            "      <th>11836</th>\n",
                            "      <td>380</td>\n",
                            "      <td>Half-Life 2: Episode One</td>\n",
                            "    </tr>\n",
                            "    <tr>\n",
                            "      <th>11837</th>\n",
                            "      <td>420</td>\n",
                            "      <td>Half-Life 2: Episode Two</td>\n",
                            "    </tr>\n",
                            "    <tr>\n",
                            "      <th>11870</th>\n",
                            "      <td>15100</td>\n",
                            "      <td>Assassin's Creed™: Director's Cut Edition</td>\n",
                            "    </tr>\n",
                            "    <tr>\n",
                            "      <th>11896</th>\n",
                            "      <td>33230</td>\n",
                            "      <td>Assassin's Creed 2</td>\n",
                            "    </tr>\n",
                            "    <tr>\n",
                            "      <th>11915</th>\n",
                            "      <td>47790</td>\n",
                            "      <td>Medal of Honor™</td>\n",
                            "    </tr>\n",
                            "    <tr>\n",
                            "      <th>11941</th>\n",
                            "      <td>201870</td>\n",
                            "      <td>Assassin's Creed® Revelations</td>\n",
                            "    </tr>\n",
                            "    <tr>\n",
                            "      <th>12062</th>\n",
                            "      <td>298110</td>\n",
                            "      <td>Far Cry® 4</td>\n",
                            "    </tr>\n",
                            "    <tr>\n",
                            "      <th>12078</th>\n",
                            "      <td>311560</td>\n",
                            "      <td>Assassin’s Creed® Rogue</td>\n",
                            "    </tr>\n",
                            "    <tr>\n",
                            "      <th>12135</th>\n",
                            "      <td>371660</td>\n",
                            "      <td>Far Cry® Primal</td>\n",
                            "    </tr>\n",
                            "    <tr>\n",
                            "      <th>12153</th>\n",
                            "      <td>379720</td>\n",
                            "      <td>DOOM</td>\n",
                            "    </tr>\n",
                            "    <tr>\n",
                            "      <th>12166</th>\n",
                            "      <td>582160</td>\n",
                            "      <td>Assassin's Creed® Origins</td>\n",
                            "    </tr>\n",
                            "  </tbody>\n",
                            "</table style=\"display:inline\">"
                        ]
                    },
                    "metadata": {},
                    "output_type": "display_data"
                },
                {
                    "name": "stdout",
                    "output_type": "stream",
                    "text": [
                        "Games recommended to user 197594:\n"
                    ]
                },
                {
                    "data": {
                        "text/html": [
                            "<table style=\"display:inline\" border=\"1\" class=\"dataframe\">\n",
                            "  <thead>\n",
                            "    <tr style=\"text-align: right;\">\n",
                            "      <th></th>\n",
                            "      <th>app_id</th>\n",
                            "      <th>title</th>\n",
                            "    </tr>\n",
                            "  </thead>\n",
                            "  <tbody>\n",
                            "    <tr>\n",
                            "      <th>4335</th>\n",
                            "      <td>242760</td>\n",
                            "      <td>The Forest</td>\n",
                            "    </tr>\n",
                            "    <tr>\n",
                            "      <th>4669</th>\n",
                            "      <td>550</td>\n",
                            "      <td>Left 4 Dead 2</td>\n",
                            "    </tr>\n",
                            "    <tr>\n",
                            "      <th>4704</th>\n",
                            "      <td>292030</td>\n",
                            "      <td>The Witcher® 3: Wild Hunt</td>\n",
                            "    </tr>\n",
                            "    <tr>\n",
                            "      <th>4848</th>\n",
                            "      <td>377160</td>\n",
                            "      <td>Fallout 4</td>\n",
                            "    </tr>\n",
                            "    <tr>\n",
                            "      <th>5260</th>\n",
                            "      <td>1091500</td>\n",
                            "      <td>Cyberpunk 2077</td>\n",
                            "    </tr>\n",
                            "    <tr>\n",
                            "      <th>5614</th>\n",
                            "      <td>620</td>\n",
                            "      <td>Portal 2</td>\n",
                            "    </tr>\n",
                            "    <tr>\n",
                            "      <th>6015</th>\n",
                            "      <td>374320</td>\n",
                            "      <td>DARK SOULS™ III</td>\n",
                            "    </tr>\n",
                            "    <tr>\n",
                            "      <th>11838</th>\n",
                            "      <td>440</td>\n",
                            "      <td>Team Fortress 2</td>\n",
                            "    </tr>\n",
                            "    <tr>\n",
                            "      <th>12153</th>\n",
                            "      <td>379720</td>\n",
                            "      <td>DOOM</td>\n",
                            "    </tr>\n",
                            "    <tr>\n",
                            "      <th>12197</th>\n",
                            "      <td>431960</td>\n",
                            "      <td>Wallpaper Engine</td>\n",
                            "    </tr>\n",
                            "  </tbody>\n",
                            "</table style=\"display:inline\">"
                        ]
                    },
                    "metadata": {},
                    "output_type": "display_data"
                }
            ],
            "source": [
                "sample_recommendation(model, np.random.choice(users['user_id'], 1), K)"
            ]
        },
        {
            "cell_type": "markdown",
            "metadata": {},
            "source": [
                "- [[1](https://arxiv.org/abs/1507.08439)]. Maciej Kula - Metadata Embeddings for User and Item Cold-start Recommendations, 2015. arXiv:1507.08439\n",
                "- [[2](https://making.lyst.com/lightfm/docs/home.html)]. LightFM documentation, \n"
            ]
        }
    ],
    "metadata": {
        "kernelspec": {
            "display_name": "Python 3",
            "language": "python",
            "name": "python3"
        },
        "language_info": {
            "codemirror_mode": {
                "name": "ipython",
                "version": 3
            },
            "file_extension": ".py",
            "mimetype": "text/x-python",
            "name": "python",
            "nbconvert_exporter": "python",
            "pygments_lexer": "ipython3",
            "version": "3.11.2"
        }
    },
    "nbformat": 4,
    "nbformat_minor": 4
}
